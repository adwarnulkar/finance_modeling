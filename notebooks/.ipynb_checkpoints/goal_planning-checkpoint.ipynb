{
 "cells": [
  {
   "cell_type": "markdown",
   "metadata": {},
   "source": [
    "# Home Planning\n",
    "\n",
    "- Date : 01/27/2020"
   ]
  },
  {
   "cell_type": "code",
   "execution_count": 1,
   "metadata": {},
   "outputs": [],
   "source": [
    "home_cost = 1000000 # Cost of home\n",
    "dp_perc = 20 # Down Payment percentage"
   ]
  },
  {
   "cell_type": "code",
   "execution_count": 2,
   "metadata": {},
   "outputs": [
    {
     "data": {
      "text/html": [
       "\n",
       "    <div class=\"bk-root\">\n",
       "        <a href=\"https://bokeh.pydata.org\" target=\"_blank\" class=\"bk-logo bk-logo-small bk-logo-notebook\"></a>\n",
       "        <span id=\"1001\">Loading BokehJS ...</span>\n",
       "    </div>"
      ]
     },
     "metadata": {},
     "output_type": "display_data"
    },
    {
     "data": {
      "application/javascript": [
       "\n",
       "(function(root) {\n",
       "  function now() {\n",
       "    return new Date();\n",
       "  }\n",
       "\n",
       "  var force = true;\n",
       "\n",
       "  if (typeof root._bokeh_onload_callbacks === \"undefined\" || force === true) {\n",
       "    root._bokeh_onload_callbacks = [];\n",
       "    root._bokeh_is_loading = undefined;\n",
       "  }\n",
       "\n",
       "  var JS_MIME_TYPE = 'application/javascript';\n",
       "  var HTML_MIME_TYPE = 'text/html';\n",
       "  var EXEC_MIME_TYPE = 'application/vnd.bokehjs_exec.v0+json';\n",
       "  var CLASS_NAME = 'output_bokeh rendered_html';\n",
       "\n",
       "  /**\n",
       "   * Render data to the DOM node\n",
       "   */\n",
       "  function render(props, node) {\n",
       "    var script = document.createElement(\"script\");\n",
       "    node.appendChild(script);\n",
       "  }\n",
       "\n",
       "  /**\n",
       "   * Handle when an output is cleared or removed\n",
       "   */\n",
       "  function handleClearOutput(event, handle) {\n",
       "    var cell = handle.cell;\n",
       "\n",
       "    var id = cell.output_area._bokeh_element_id;\n",
       "    var server_id = cell.output_area._bokeh_server_id;\n",
       "    // Clean up Bokeh references\n",
       "    if (id != null && id in Bokeh.index) {\n",
       "      Bokeh.index[id].model.document.clear();\n",
       "      delete Bokeh.index[id];\n",
       "    }\n",
       "\n",
       "    if (server_id !== undefined) {\n",
       "      // Clean up Bokeh references\n",
       "      var cmd = \"from bokeh.io.state import curstate; print(curstate().uuid_to_server['\" + server_id + \"'].get_sessions()[0].document.roots[0]._id)\";\n",
       "      cell.notebook.kernel.execute(cmd, {\n",
       "        iopub: {\n",
       "          output: function(msg) {\n",
       "            var id = msg.content.text.trim();\n",
       "            if (id in Bokeh.index) {\n",
       "              Bokeh.index[id].model.document.clear();\n",
       "              delete Bokeh.index[id];\n",
       "            }\n",
       "          }\n",
       "        }\n",
       "      });\n",
       "      // Destroy server and session\n",
       "      var cmd = \"import bokeh.io.notebook as ion; ion.destroy_server('\" + server_id + \"')\";\n",
       "      cell.notebook.kernel.execute(cmd);\n",
       "    }\n",
       "  }\n",
       "\n",
       "  /**\n",
       "   * Handle when a new output is added\n",
       "   */\n",
       "  function handleAddOutput(event, handle) {\n",
       "    var output_area = handle.output_area;\n",
       "    var output = handle.output;\n",
       "\n",
       "    // limit handleAddOutput to display_data with EXEC_MIME_TYPE content only\n",
       "    if ((output.output_type != \"display_data\") || (!output.data.hasOwnProperty(EXEC_MIME_TYPE))) {\n",
       "      return\n",
       "    }\n",
       "\n",
       "    var toinsert = output_area.element.find(\".\" + CLASS_NAME.split(' ')[0]);\n",
       "\n",
       "    if (output.metadata[EXEC_MIME_TYPE][\"id\"] !== undefined) {\n",
       "      toinsert[toinsert.length - 1].firstChild.textContent = output.data[JS_MIME_TYPE];\n",
       "      // store reference to embed id on output_area\n",
       "      output_area._bokeh_element_id = output.metadata[EXEC_MIME_TYPE][\"id\"];\n",
       "    }\n",
       "    if (output.metadata[EXEC_MIME_TYPE][\"server_id\"] !== undefined) {\n",
       "      var bk_div = document.createElement(\"div\");\n",
       "      bk_div.innerHTML = output.data[HTML_MIME_TYPE];\n",
       "      var script_attrs = bk_div.children[0].attributes;\n",
       "      for (var i = 0; i < script_attrs.length; i++) {\n",
       "        toinsert[toinsert.length - 1].firstChild.setAttribute(script_attrs[i].name, script_attrs[i].value);\n",
       "      }\n",
       "      // store reference to server id on output_area\n",
       "      output_area._bokeh_server_id = output.metadata[EXEC_MIME_TYPE][\"server_id\"];\n",
       "    }\n",
       "  }\n",
       "\n",
       "  function register_renderer(events, OutputArea) {\n",
       "\n",
       "    function append_mime(data, metadata, element) {\n",
       "      // create a DOM node to render to\n",
       "      var toinsert = this.create_output_subarea(\n",
       "        metadata,\n",
       "        CLASS_NAME,\n",
       "        EXEC_MIME_TYPE\n",
       "      );\n",
       "      this.keyboard_manager.register_events(toinsert);\n",
       "      // Render to node\n",
       "      var props = {data: data, metadata: metadata[EXEC_MIME_TYPE]};\n",
       "      render(props, toinsert[toinsert.length - 1]);\n",
       "      element.append(toinsert);\n",
       "      return toinsert\n",
       "    }\n",
       "\n",
       "    /* Handle when an output is cleared or removed */\n",
       "    events.on('clear_output.CodeCell', handleClearOutput);\n",
       "    events.on('delete.Cell', handleClearOutput);\n",
       "\n",
       "    /* Handle when a new output is added */\n",
       "    events.on('output_added.OutputArea', handleAddOutput);\n",
       "\n",
       "    /**\n",
       "     * Register the mime type and append_mime function with output_area\n",
       "     */\n",
       "    OutputArea.prototype.register_mime_type(EXEC_MIME_TYPE, append_mime, {\n",
       "      /* Is output safe? */\n",
       "      safe: true,\n",
       "      /* Index of renderer in `output_area.display_order` */\n",
       "      index: 0\n",
       "    });\n",
       "  }\n",
       "\n",
       "  // register the mime type if in Jupyter Notebook environment and previously unregistered\n",
       "  if (root.Jupyter !== undefined) {\n",
       "    var events = require('base/js/events');\n",
       "    var OutputArea = require('notebook/js/outputarea').OutputArea;\n",
       "\n",
       "    if (OutputArea.prototype.mime_types().indexOf(EXEC_MIME_TYPE) == -1) {\n",
       "      register_renderer(events, OutputArea);\n",
       "    }\n",
       "  }\n",
       "\n",
       "  \n",
       "  if (typeof (root._bokeh_timeout) === \"undefined\" || force === true) {\n",
       "    root._bokeh_timeout = Date.now() + 5000;\n",
       "    root._bokeh_failed_load = false;\n",
       "  }\n",
       "\n",
       "  var NB_LOAD_WARNING = {'data': {'text/html':\n",
       "     \"<div style='background-color: #fdd'>\\n\"+\n",
       "     \"<p>\\n\"+\n",
       "     \"BokehJS does not appear to have successfully loaded. If loading BokehJS from CDN, this \\n\"+\n",
       "     \"may be due to a slow or bad network connection. Possible fixes:\\n\"+\n",
       "     \"</p>\\n\"+\n",
       "     \"<ul>\\n\"+\n",
       "     \"<li>re-rerun `output_notebook()` to attempt to load from CDN again, or</li>\\n\"+\n",
       "     \"<li>use INLINE resources instead, as so:</li>\\n\"+\n",
       "     \"</ul>\\n\"+\n",
       "     \"<code>\\n\"+\n",
       "     \"from bokeh.resources import INLINE\\n\"+\n",
       "     \"output_notebook(resources=INLINE)\\n\"+\n",
       "     \"</code>\\n\"+\n",
       "     \"</div>\"}};\n",
       "\n",
       "  function display_loaded() {\n",
       "    var el = document.getElementById(\"1001\");\n",
       "    if (el != null) {\n",
       "      el.textContent = \"BokehJS is loading...\";\n",
       "    }\n",
       "    if (root.Bokeh !== undefined) {\n",
       "      if (el != null) {\n",
       "        el.textContent = \"BokehJS \" + root.Bokeh.version + \" successfully loaded.\";\n",
       "      }\n",
       "    } else if (Date.now() < root._bokeh_timeout) {\n",
       "      setTimeout(display_loaded, 100)\n",
       "    }\n",
       "  }\n",
       "\n",
       "\n",
       "  function run_callbacks() {\n",
       "    try {\n",
       "      root._bokeh_onload_callbacks.forEach(function(callback) {\n",
       "        if (callback != null)\n",
       "          callback();\n",
       "      });\n",
       "    } finally {\n",
       "      delete root._bokeh_onload_callbacks\n",
       "    }\n",
       "    console.debug(\"Bokeh: all callbacks have finished\");\n",
       "  }\n",
       "\n",
       "  function load_libs(css_urls, js_urls, callback) {\n",
       "    if (css_urls == null) css_urls = [];\n",
       "    if (js_urls == null) js_urls = [];\n",
       "\n",
       "    root._bokeh_onload_callbacks.push(callback);\n",
       "    if (root._bokeh_is_loading > 0) {\n",
       "      console.debug(\"Bokeh: BokehJS is being loaded, scheduling callback at\", now());\n",
       "      return null;\n",
       "    }\n",
       "    if (js_urls == null || js_urls.length === 0) {\n",
       "      run_callbacks();\n",
       "      return null;\n",
       "    }\n",
       "    console.debug(\"Bokeh: BokehJS not loaded, scheduling load and callback at\", now());\n",
       "    root._bokeh_is_loading = css_urls.length + js_urls.length;\n",
       "\n",
       "    function on_load() {\n",
       "      root._bokeh_is_loading--;\n",
       "      if (root._bokeh_is_loading === 0) {\n",
       "        console.debug(\"Bokeh: all BokehJS libraries/stylesheets loaded\");\n",
       "        run_callbacks()\n",
       "      }\n",
       "    }\n",
       "\n",
       "    function on_error() {\n",
       "      console.error(\"failed to load \" + url);\n",
       "    }\n",
       "\n",
       "    for (var i = 0; i < css_urls.length; i++) {\n",
       "      var url = css_urls[i];\n",
       "      const element = document.createElement(\"link\");\n",
       "      element.onload = on_load;\n",
       "      element.onerror = on_error;\n",
       "      element.rel = \"stylesheet\";\n",
       "      element.type = \"text/css\";\n",
       "      element.href = url;\n",
       "      console.debug(\"Bokeh: injecting link tag for BokehJS stylesheet: \", url);\n",
       "      document.body.appendChild(element);\n",
       "    }\n",
       "\n",
       "    for (var i = 0; i < js_urls.length; i++) {\n",
       "      var url = js_urls[i];\n",
       "      var element = document.createElement('script');\n",
       "      element.onload = on_load;\n",
       "      element.onerror = on_error;\n",
       "      element.async = false;\n",
       "      element.src = url;\n",
       "      console.debug(\"Bokeh: injecting script tag for BokehJS library: \", url);\n",
       "      document.head.appendChild(element);\n",
       "    }\n",
       "  };var element = document.getElementById(\"1001\");\n",
       "  if (element == null) {\n",
       "    console.error(\"Bokeh: ERROR: autoload.js configured with elementid '1001' but no matching script tag was found. \")\n",
       "    return false;\n",
       "  }\n",
       "\n",
       "  function inject_raw_css(css) {\n",
       "    const element = document.createElement(\"style\");\n",
       "    element.appendChild(document.createTextNode(css));\n",
       "    document.body.appendChild(element);\n",
       "  }\n",
       "\n",
       "  var js_urls = [\"https://cdn.pydata.org/bokeh/release/bokeh-1.3.4.min.js\", \"https://cdn.pydata.org/bokeh/release/bokeh-widgets-1.3.4.min.js\", \"https://cdn.pydata.org/bokeh/release/bokeh-tables-1.3.4.min.js\", \"https://cdn.pydata.org/bokeh/release/bokeh-gl-1.3.4.min.js\"];\n",
       "  var css_urls = [];\n",
       "\n",
       "  var inline_js = [\n",
       "    function(Bokeh) {\n",
       "      Bokeh.set_log_level(\"info\");\n",
       "    },\n",
       "    \n",
       "    function(Bokeh) {\n",
       "      \n",
       "    },\n",
       "    function(Bokeh) {} // ensure no trailing comma for IE\n",
       "  ];\n",
       "\n",
       "  function run_inline_js() {\n",
       "    \n",
       "    if ((root.Bokeh !== undefined) || (force === true)) {\n",
       "      for (var i = 0; i < inline_js.length; i++) {\n",
       "        inline_js[i].call(root, root.Bokeh);\n",
       "      }if (force === true) {\n",
       "        display_loaded();\n",
       "      }} else if (Date.now() < root._bokeh_timeout) {\n",
       "      setTimeout(run_inline_js, 100);\n",
       "    } else if (!root._bokeh_failed_load) {\n",
       "      console.log(\"Bokeh: BokehJS failed to load within specified timeout.\");\n",
       "      root._bokeh_failed_load = true;\n",
       "    } else if (force !== true) {\n",
       "      var cell = $(document.getElementById(\"1001\")).parents('.cell').data().cell;\n",
       "      cell.output_area.append_execute_result(NB_LOAD_WARNING)\n",
       "    }\n",
       "\n",
       "  }\n",
       "\n",
       "  if (root._bokeh_is_loading === 0) {\n",
       "    console.debug(\"Bokeh: BokehJS loaded, going straight to plotting\");\n",
       "    run_inline_js();\n",
       "  } else {\n",
       "    load_libs(css_urls, js_urls, function() {\n",
       "      console.debug(\"Bokeh: BokehJS plotting callback run at\", now());\n",
       "      run_inline_js();\n",
       "    });\n",
       "  }\n",
       "}(window));"
      ],
      "application/vnd.bokehjs_load.v0+json": "\n(function(root) {\n  function now() {\n    return new Date();\n  }\n\n  var force = true;\n\n  if (typeof root._bokeh_onload_callbacks === \"undefined\" || force === true) {\n    root._bokeh_onload_callbacks = [];\n    root._bokeh_is_loading = undefined;\n  }\n\n  \n\n  \n  if (typeof (root._bokeh_timeout) === \"undefined\" || force === true) {\n    root._bokeh_timeout = Date.now() + 5000;\n    root._bokeh_failed_load = false;\n  }\n\n  var NB_LOAD_WARNING = {'data': {'text/html':\n     \"<div style='background-color: #fdd'>\\n\"+\n     \"<p>\\n\"+\n     \"BokehJS does not appear to have successfully loaded. If loading BokehJS from CDN, this \\n\"+\n     \"may be due to a slow or bad network connection. Possible fixes:\\n\"+\n     \"</p>\\n\"+\n     \"<ul>\\n\"+\n     \"<li>re-rerun `output_notebook()` to attempt to load from CDN again, or</li>\\n\"+\n     \"<li>use INLINE resources instead, as so:</li>\\n\"+\n     \"</ul>\\n\"+\n     \"<code>\\n\"+\n     \"from bokeh.resources import INLINE\\n\"+\n     \"output_notebook(resources=INLINE)\\n\"+\n     \"</code>\\n\"+\n     \"</div>\"}};\n\n  function display_loaded() {\n    var el = document.getElementById(\"1001\");\n    if (el != null) {\n      el.textContent = \"BokehJS is loading...\";\n    }\n    if (root.Bokeh !== undefined) {\n      if (el != null) {\n        el.textContent = \"BokehJS \" + root.Bokeh.version + \" successfully loaded.\";\n      }\n    } else if (Date.now() < root._bokeh_timeout) {\n      setTimeout(display_loaded, 100)\n    }\n  }\n\n\n  function run_callbacks() {\n    try {\n      root._bokeh_onload_callbacks.forEach(function(callback) {\n        if (callback != null)\n          callback();\n      });\n    } finally {\n      delete root._bokeh_onload_callbacks\n    }\n    console.debug(\"Bokeh: all callbacks have finished\");\n  }\n\n  function load_libs(css_urls, js_urls, callback) {\n    if (css_urls == null) css_urls = [];\n    if (js_urls == null) js_urls = [];\n\n    root._bokeh_onload_callbacks.push(callback);\n    if (root._bokeh_is_loading > 0) {\n      console.debug(\"Bokeh: BokehJS is being loaded, scheduling callback at\", now());\n      return null;\n    }\n    if (js_urls == null || js_urls.length === 0) {\n      run_callbacks();\n      return null;\n    }\n    console.debug(\"Bokeh: BokehJS not loaded, scheduling load and callback at\", now());\n    root._bokeh_is_loading = css_urls.length + js_urls.length;\n\n    function on_load() {\n      root._bokeh_is_loading--;\n      if (root._bokeh_is_loading === 0) {\n        console.debug(\"Bokeh: all BokehJS libraries/stylesheets loaded\");\n        run_callbacks()\n      }\n    }\n\n    function on_error() {\n      console.error(\"failed to load \" + url);\n    }\n\n    for (var i = 0; i < css_urls.length; i++) {\n      var url = css_urls[i];\n      const element = document.createElement(\"link\");\n      element.onload = on_load;\n      element.onerror = on_error;\n      element.rel = \"stylesheet\";\n      element.type = \"text/css\";\n      element.href = url;\n      console.debug(\"Bokeh: injecting link tag for BokehJS stylesheet: \", url);\n      document.body.appendChild(element);\n    }\n\n    for (var i = 0; i < js_urls.length; i++) {\n      var url = js_urls[i];\n      var element = document.createElement('script');\n      element.onload = on_load;\n      element.onerror = on_error;\n      element.async = false;\n      element.src = url;\n      console.debug(\"Bokeh: injecting script tag for BokehJS library: \", url);\n      document.head.appendChild(element);\n    }\n  };var element = document.getElementById(\"1001\");\n  if (element == null) {\n    console.error(\"Bokeh: ERROR: autoload.js configured with elementid '1001' but no matching script tag was found. \")\n    return false;\n  }\n\n  function inject_raw_css(css) {\n    const element = document.createElement(\"style\");\n    element.appendChild(document.createTextNode(css));\n    document.body.appendChild(element);\n  }\n\n  var js_urls = [\"https://cdn.pydata.org/bokeh/release/bokeh-1.3.4.min.js\", \"https://cdn.pydata.org/bokeh/release/bokeh-widgets-1.3.4.min.js\", \"https://cdn.pydata.org/bokeh/release/bokeh-tables-1.3.4.min.js\", \"https://cdn.pydata.org/bokeh/release/bokeh-gl-1.3.4.min.js\"];\n  var css_urls = [];\n\n  var inline_js = [\n    function(Bokeh) {\n      Bokeh.set_log_level(\"info\");\n    },\n    \n    function(Bokeh) {\n      \n    },\n    function(Bokeh) {} // ensure no trailing comma for IE\n  ];\n\n  function run_inline_js() {\n    \n    if ((root.Bokeh !== undefined) || (force === true)) {\n      for (var i = 0; i < inline_js.length; i++) {\n        inline_js[i].call(root, root.Bokeh);\n      }if (force === true) {\n        display_loaded();\n      }} else if (Date.now() < root._bokeh_timeout) {\n      setTimeout(run_inline_js, 100);\n    } else if (!root._bokeh_failed_load) {\n      console.log(\"Bokeh: BokehJS failed to load within specified timeout.\");\n      root._bokeh_failed_load = true;\n    } else if (force !== true) {\n      var cell = $(document.getElementById(\"1001\")).parents('.cell').data().cell;\n      cell.output_area.append_execute_result(NB_LOAD_WARNING)\n    }\n\n  }\n\n  if (root._bokeh_is_loading === 0) {\n    console.debug(\"Bokeh: BokehJS loaded, going straight to plotting\");\n    run_inline_js();\n  } else {\n    load_libs(css_urls, js_urls, function() {\n      console.debug(\"Bokeh: BokehJS plotting callback run at\", now());\n      run_inline_js();\n    });\n  }\n}(window));"
     },
     "metadata": {},
     "output_type": "display_data"
    }
   ],
   "source": [
    "import pandas as pd\n",
    "import numpy as np\n",
    "\n",
    "from bokeh.plotting import figure, output_file, show\n",
    "from bokeh.io import output_notebook\n",
    "output_notebook()\n",
    "\n",
    "import matplotlib.pyplot as plt\n",
    "%matplotlib inline"
   ]
  },
  {
   "cell_type": "code",
   "execution_count": 3,
   "metadata": {},
   "outputs": [
    {
     "name": "stdout",
     "output_type": "stream",
     "text": [
      "Down Payment of home is $200000.0\n"
     ]
    }
   ],
   "source": [
    "D = dp_perc * home_cost / 100\n",
    "print(f\"Down Payment of home is ${D}\")"
   ]
  },
  {
   "cell_type": "markdown",
   "metadata": {},
   "source": [
    "## Variables at play\n",
    "- s : investment per month (12*s becomes investment per annum)\n",
    "- n : Number of years you want to wait to buy a house\n",
    "- r : ROI per annum that you are expecting"
   ]
  },
  {
   "cell_type": "markdown",
   "metadata": {},
   "source": [
    "## Sweeping over s\n",
    "- For every possible s , find the years that it will take\n",
    "- Repeat the above analysis for different r to model ROI noise"
   ]
  },
  {
   "cell_type": "code",
   "execution_count": 4,
   "metadata": {},
   "outputs": [],
   "source": [
    "def get_investment(D,N,r):\n",
    "    return D / (12*sum([(1 + r/100)**i for i in np.arange(0,N+1)]))\n",
    "\n",
    "def get_downpayment(s,N,r):\n",
    "    return 12*s*sum([(1 + r/100)**i for i in np.arange(0,N+1)])"
   ]
  },
  {
   "cell_type": "code",
   "execution_count": 5,
   "metadata": {},
   "outputs": [
    {
     "data": {
      "image/png": "[encoded data removed]",
      "text/plain": [
       "<Figure size 1440x576 with 1 Axes>"
      ]
     },
     "metadata": {
      "needs_background": "light"
     },
     "output_type": "display_data"
    }
   ],
   "source": [
    "plt.figure(figsize=[20,8])\n",
    "for r in np.arange(2,8,1):\n",
    "    n_list = np.arange(3,12)\n",
    "    s_list = [get_investment(D,n,r) for n in n_list]\n",
    "    plt.plot(n_list,s_list,label=r)\n",
    "\n",
    "plt.title('Investment planning')\n",
    "plt.legend()\n",
    "plt.xlabel('Years')\n",
    "plt.ylabel('Investment per month ($)')\n",
    "plt.grid()"
   ]
  },
  {
   "cell_type": "code",
   "execution_count": 6,
   "metadata": {},
   "outputs": [
    {
     "data": {
      "text/plain": [
       "1985.5836343168478"
      ]
     },
     "execution_count": 6,
     "metadata": {},
     "output_type": "execute_result"
    }
   ],
   "source": [
    "D = 200000\n",
    "get_investment(D,N=6,r=6)"
   ]
  },
  {
   "cell_type": "code",
   "execution_count": 7,
   "metadata": {},
   "outputs": [
    {
     "data": {
      "text/plain": [
       "30217.815539481606"
      ]
     },
     "execution_count": 7,
     "metadata": {},
     "output_type": "execute_result"
    }
   ],
   "source": [
    "s = 300\n",
    "get_downpayment(s,N=6,r=6)"
   ]
  },
  {
   "cell_type": "code",
   "execution_count": 8,
   "metadata": {},
   "outputs": [
    {
     "data": {
      "text/html": [
       "<div>\n",
       "<style scoped>\n",
       "    .dataframe tbody tr th:only-of-type {\n",
       "        vertical-align: middle;\n",
       "    }\n",
       "\n",
       "    .dataframe tbody tr th {\n",
       "        vertical-align: top;\n",
       "    }\n",
       "\n",
       "    .dataframe thead th {\n",
       "        text-align: right;\n",
       "    }\n",
       "</style>\n",
       "<table border=\"1\" class=\"dataframe\">\n",
       "  <thead>\n",
       "    <tr style=\"text-align: right;\">\n",
       "      <th></th>\n",
       "      <th>date</th>\n",
       "      <th>value</th>\n",
       "    </tr>\n",
       "  </thead>\n",
       "  <tbody>\n",
       "    <tr>\n",
       "      <td>0</td>\n",
       "      <td>1928-12-31</td>\n",
       "      <td>37.88</td>\n",
       "    </tr>\n",
       "    <tr>\n",
       "      <td>1</td>\n",
       "      <td>1929-12-31</td>\n",
       "      <td>-11.91</td>\n",
       "    </tr>\n",
       "    <tr>\n",
       "      <td>2</td>\n",
       "      <td>1930-12-31</td>\n",
       "      <td>-28.48</td>\n",
       "    </tr>\n",
       "    <tr>\n",
       "      <td>3</td>\n",
       "      <td>1931-12-31</td>\n",
       "      <td>-47.07</td>\n",
       "    </tr>\n",
       "    <tr>\n",
       "      <td>4</td>\n",
       "      <td>1932-12-31</td>\n",
       "      <td>-15.15</td>\n",
       "    </tr>\n",
       "    <tr>\n",
       "      <td>...</td>\n",
       "      <td>...</td>\n",
       "      <td>...</td>\n",
       "    </tr>\n",
       "    <tr>\n",
       "      <td>88</td>\n",
       "      <td>2016-12-30</td>\n",
       "      <td>9.54</td>\n",
       "    </tr>\n",
       "    <tr>\n",
       "      <td>89</td>\n",
       "      <td>2017-12-29</td>\n",
       "      <td>19.42</td>\n",
       "    </tr>\n",
       "    <tr>\n",
       "      <td>90</td>\n",
       "      <td>2018-12-31</td>\n",
       "      <td>-6.24</td>\n",
       "    </tr>\n",
       "    <tr>\n",
       "      <td>91</td>\n",
       "      <td>2019-12-31</td>\n",
       "      <td>28.88</td>\n",
       "    </tr>\n",
       "    <tr>\n",
       "      <td>92</td>\n",
       "      <td>2020-01-31</td>\n",
       "      <td>-0.16</td>\n",
       "    </tr>\n",
       "  </tbody>\n",
       "</table>\n",
       "<p>93 rows × 2 columns</p>\n",
       "</div>"
      ],
      "text/plain": [
       "          date  value\n",
       "0   1928-12-31  37.88\n",
       "1   1929-12-31 -11.91\n",
       "2   1930-12-31 -28.48\n",
       "3   1931-12-31 -47.07\n",
       "4   1932-12-31 -15.15\n",
       "..         ...    ...\n",
       "88  2016-12-30   9.54\n",
       "89  2017-12-29  19.42\n",
       "90  2018-12-31  -6.24\n",
       "91  2019-12-31  28.88\n",
       "92  2020-01-31  -0.16\n",
       "\n",
       "[93 rows x 2 columns]"
      ]
     },
     "execution_count": 8,
     "metadata": {},
     "output_type": "execute_result"
    }
   ],
   "source": [
    "sp_500_csv = '/Users/adwarnulkar/workspace/personal_finance/notebooks/sp-500-historical-annual-returns.csv'\n",
    "df_index = pd.read_csv(sp_500_csv)\n",
    "df_index"
   ]
  },
  {
   "cell_type": "markdown",
   "metadata": {},
   "source": [
    "## Performance of SP 500\n",
    "- https://www.macrotrends.net/2526/sp-500-historical-annual-returns"
   ]
  },
  {
   "cell_type": "code",
   "execution_count": 9,
   "metadata": {},
   "outputs": [
    {
     "name": "stderr",
     "output_type": "stream",
     "text": [
      "/Users/adwarnulkar/opt/anaconda3/lib/python3.7/site-packages/ipykernel_launcher.py:2: UserWarning: In Matplotlib 3.3 individual lines on a stem plot will be added as a LineCollection instead of individual lines. This significantly improves the performance of a stem plot. To remove this warning and switch to the new behaviour, set the \"use_line_collection\" keyword argument to True.\n",
      "  \n"
     ]
    },
    {
     "data": {
      "image/png": "[encoded data removed]",
      "text/plain": [
       "<Figure size 1440x576 with 1 Axes>"
      ]
     },
     "metadata": {
      "needs_background": "light"
     },
     "output_type": "display_data"
    }
   ],
   "source": [
    "plt.figure(figsize=[20,8])\n",
    "plt.stem(df_index.value)\n",
    "plt.grid()"
   ]
  },
  {
   "cell_type": "markdown",
   "metadata": {},
   "source": [
    "## Yearly spending model"
   ]
  },
  {
   "cell_type": "code",
   "execution_count": 10,
   "metadata": {},
   "outputs": [],
   "source": [
    "def get_investment(target,rate):\n",
    "    return round((1/12)*target/(1+rate/100))\n",
    "\n",
    "def get_rate(target,investment):\n",
    "    return (target/(investment*12) - 1)*100"
   ]
  },
  {
   "cell_type": "code",
   "execution_count": 11,
   "metadata": {},
   "outputs": [
    {
     "data": {
      "text/plain": [
       "238"
      ]
     },
     "execution_count": 11,
     "metadata": {},
     "output_type": "execute_result"
    }
   ],
   "source": [
    "target = 3000\n",
    "rate = 5\n",
    "get_investment(target,rate)"
   ]
  },
  {
   "cell_type": "code",
   "execution_count": 12,
   "metadata": {},
   "outputs": [
    {
     "data": {
      "text/plain": [
       "5.042016806722693"
      ]
     },
     "execution_count": 12,
     "metadata": {},
     "output_type": "execute_result"
    }
   ],
   "source": [
    "target = 3000\n",
    "investment = 238\n",
    "get_rate(target,investment)"
   ]
  },
  {
   "cell_type": "markdown",
   "metadata": {},
   "source": [
    "# Model : Vacation Planning"
   ]
  },
  {
   "cell_type": "code",
   "execution_count": 13,
   "metadata": {},
   "outputs": [],
   "source": [
    "I = 300\n",
    "r = 1.5\n",
    "T = 1\n",
    "N = 12*T"
   ]
  },
  {
   "cell_type": "code",
   "execution_count": 14,
   "metadata": {},
   "outputs": [],
   "source": [
    "def get_returns(I,r,N):\n",
    "    '''Get Retuns (montly based model)'''\n",
    "    return sum([I*((1+r/100)**(N-i+1)) for i in np.arange(1,N+1)])"
   ]
  },
  {
   "cell_type": "code",
   "execution_count": 15,
   "metadata": {},
   "outputs": [
    {
     "name": "stdout",
     "output_type": "stream",
     "text": [
      "Returns 3971.0\n",
      "Gains 371.0\n",
      "Post Tax returns 3878.3\n"
     ]
    }
   ],
   "source": [
    "R = get_returns(I,r,N)\n",
    "G = R - I*N\n",
    "print(f\"Returns {R:.1f}\")\n",
    "print(f\"Gains {G:.1f}\")\n",
    "print(f\"Post Tax returns {R-0.25*G:.1f}\")"
   ]
  },
  {
   "cell_type": "code",
   "execution_count": 16,
   "metadata": {},
   "outputs": [],
   "source": [
    "N = np.arange(1,12*T)\n",
    "returns_list = [get_returns(I,r,n) for n in N]"
   ]
  },
  {
   "cell_type": "code",
   "execution_count": 17,
   "metadata": {},
   "outputs": [
    {
     "data": {
      "text/html": [
       "\n",
       "\n",
       "\n",
       "\n",
       "\n",
       "\n",
       "  <div class=\"bk-root\" id=\"0690ec04-0fb1-4b98-a79c-da5db7b5c59b\" data-root-id=\"1002\"></div>\n"
      ]
     },
     "metadata": {},
     "output_type": "display_data"
    },
    {
     "data": {
      "application/javascript": [
       "(function(root) {\n",
       "  function embed_document(root) {\n",
       "    \n",
       "  var docs_json = {\"1c13f149-f6dc-4fed-8f96-93004f7f2710\":{\"roots\":{\"references\":[{\"attributes\":{\"below\":[{\"id\":\"1013\",\"type\":\"LinearAxis\"}],\"center\":[{\"id\":\"1017\",\"type\":\"Grid\"},{\"id\":\"1022\",\"type\":\"Grid\"},{\"id\":\"1047\",\"type\":\"Legend\"}],\"left\":[{\"id\":\"1018\",\"type\":\"LinearAxis\"}],\"plot_width\":800,\"renderers\":[{\"id\":\"1039\",\"type\":\"GlyphRenderer\"},{\"id\":\"1052\",\"type\":\"GlyphRenderer\"}],\"title\":{\"id\":\"1003\",\"type\":\"Title\"},\"toolbar\":{\"id\":\"1029\",\"type\":\"Toolbar\"},\"x_range\":{\"id\":\"1005\",\"type\":\"DataRange1d\"},\"x_scale\":{\"id\":\"1009\",\"type\":\"LinearScale\"},\"y_range\":{\"id\":\"1007\",\"type\":\"DataRange1d\"},\"y_scale\":{\"id\":\"1011\",\"type\":\"LinearScale\"}},\"id\":\"1002\",\"subtype\":\"Figure\",\"type\":\"Plot\"},{\"attributes\":{\"data_source\":{\"id\":\"1049\",\"type\":\"ColumnDataSource\"},\"glyph\":{\"id\":\"1050\",\"type\":\"Scatter\"},\"hover_glyph\":null,\"muted_glyph\":null,\"nonselection_glyph\":{\"id\":\"1051\",\"type\":\"Scatter\"},\"selection_glyph\":null,\"view\":{\"id\":\"1053\",\"type\":\"CDSView\"}},\"id\":\"1052\",\"type\":\"GlyphRenderer\"},{\"attributes\":{\"text\":\"Vacation Planning\"},\"id\":\"1003\",\"type\":\"Title\"},{\"attributes\":{},\"id\":\"1009\",\"type\":\"LinearScale\"},{\"attributes\":{},\"id\":\"1024\",\"type\":\"WheelZoomTool\"},{\"attributes\":{\"overlay\":{\"id\":\"1046\",\"type\":\"BoxAnnotation\"}},\"id\":\"1025\",\"type\":\"BoxZoomTool\"},{\"attributes\":{\"items\":[{\"id\":\"1048\",\"type\":\"LegendItem\"}]},\"id\":\"1047\",\"type\":\"Legend\"},{\"attributes\":{},\"id\":\"1023\",\"type\":\"PanTool\"},{\"attributes\":{\"dimension\":1,\"ticker\":{\"id\":\"1019\",\"type\":\"BasicTicker\"}},\"id\":\"1022\",\"type\":\"Grid\"},{\"attributes\":{},\"id\":\"1062\",\"type\":\"Selection\"},{\"attributes\":{\"axis_label\":\"Assert value of the growth ($)\",\"formatter\":{\"id\":\"1042\",\"type\":\"BasicTickFormatter\"},\"ticker\":{\"id\":\"1019\",\"type\":\"BasicTicker\"}},\"id\":\"1018\",\"type\":\"LinearAxis\"},{\"attributes\":{\"axis_label\":\"Year\",\"formatter\":{\"id\":\"1044\",\"type\":\"BasicTickFormatter\"},\"ticker\":{\"id\":\"1014\",\"type\":\"BasicTicker\"}},\"id\":\"1013\",\"type\":\"LinearAxis\"},{\"attributes\":{\"callback\":null},\"id\":\"1005\",\"type\":\"DataRange1d\"},{\"attributes\":{\"callback\":null,\"data\":{\"x\":{\"__ndarray__\":\"VVVVVVVVtT9VVVVVVVXFPwAAAAAAANA/VVVVVVVV1T+rqqqqqqraPwAAAAAAAOA/q6qqqqqq4j9VVVVVVVXlPwAAAAAAAOg/q6qqqqqq6j9VVVVVVVXtPw==\",\"dtype\":\"float64\",\"shape\":[11]},\"y\":[304.49999999999994,613.5674999999999,927.2710124999999,1245.6800776874998,1568.865278852812,1896.898258035604,2229.8517319061375,2567.79950788473,2910.8165005030005,3258.978748010545,3612.363429230703]},\"selected\":{\"id\":\"1062\",\"type\":\"Selection\"},\"selection_policy\":{\"id\":\"1063\",\"type\":\"UnionRenderers\"}},\"id\":\"1049\",\"type\":\"ColumnDataSource\"},{\"attributes\":{\"line_color\":\"red\",\"x\":{\"field\":\"x\"},\"y\":{\"field\":\"y\"}},\"id\":\"1037\",\"type\":\"Line\"},{\"attributes\":{},\"id\":\"1060\",\"type\":\"Selection\"},{\"attributes\":{},\"id\":\"1063\",\"type\":\"UnionRenderers\"},{\"attributes\":{},\"id\":\"1042\",\"type\":\"BasicTickFormatter\"},{\"attributes\":{\"callback\":null,\"data\":{\"x\":{\"__ndarray__\":\"VVVVVVVVtT9VVVVVVVXFPwAAAAAAANA/VVVVVVVV1T+rqqqqqqraPwAAAAAAAOA/q6qqqqqq4j9VVVVVVVXlPwAAAAAAAOg/q6qqqqqq6j9VVVVVVVXtPw==\",\"dtype\":\"float64\",\"shape\":[11]},\"y\":[304.49999999999994,613.5674999999999,927.2710124999999,1245.6800776874998,1568.865278852812,1896.898258035604,2229.8517319061375,2567.79950788473,2910.8165005030005,3258.978748010545,3612.363429230703]},\"selected\":{\"id\":\"1060\",\"type\":\"Selection\"},\"selection_policy\":{\"id\":\"1061\",\"type\":\"UnionRenderers\"}},\"id\":\"1036\",\"type\":\"ColumnDataSource\"},{\"attributes\":{\"fill_color\":{\"value\":\"blue\"},\"line_color\":{\"value\":\"blue\"},\"size\":{\"units\":\"screen\",\"value\":6.0},\"x\":{\"field\":\"x\"},\"y\":{\"field\":\"y\"}},\"id\":\"1050\",\"type\":\"Scatter\"},{\"attributes\":{},\"id\":\"1044\",\"type\":\"BasicTickFormatter\"},{\"attributes\":{},\"id\":\"1061\",\"type\":\"UnionRenderers\"},{\"attributes\":{},\"id\":\"1014\",\"type\":\"BasicTicker\"},{\"attributes\":{\"data_source\":{\"id\":\"1036\",\"type\":\"ColumnDataSource\"},\"glyph\":{\"id\":\"1037\",\"type\":\"Line\"},\"hover_glyph\":null,\"muted_glyph\":null,\"nonselection_glyph\":{\"id\":\"1038\",\"type\":\"Line\"},\"selection_glyph\":null,\"view\":{\"id\":\"1040\",\"type\":\"CDSView\"}},\"id\":\"1039\",\"type\":\"GlyphRenderer\"},{\"attributes\":{\"callback\":null},\"id\":\"1007\",\"type\":\"DataRange1d\"},{\"attributes\":{\"active_drag\":\"auto\",\"active_inspect\":\"auto\",\"active_multi\":null,\"active_scroll\":\"auto\",\"active_tap\":\"auto\",\"tools\":[{\"id\":\"1023\",\"type\":\"PanTool\"},{\"id\":\"1024\",\"type\":\"WheelZoomTool\"},{\"id\":\"1025\",\"type\":\"BoxZoomTool\"},{\"id\":\"1026\",\"type\":\"SaveTool\"},{\"id\":\"1027\",\"type\":\"ResetTool\"},{\"id\":\"1028\",\"type\":\"HelpTool\"}]},\"id\":\"1029\",\"type\":\"Toolbar\"},{\"attributes\":{},\"id\":\"1027\",\"type\":\"ResetTool\"},{\"attributes\":{},\"id\":\"1028\",\"type\":\"HelpTool\"},{\"attributes\":{\"line_alpha\":0.1,\"line_color\":\"#1f77b4\",\"x\":{\"field\":\"x\"},\"y\":{\"field\":\"y\"}},\"id\":\"1038\",\"type\":\"Line\"},{\"attributes\":{},\"id\":\"1019\",\"type\":\"BasicTicker\"},{\"attributes\":{\"ticker\":{\"id\":\"1014\",\"type\":\"BasicTicker\"}},\"id\":\"1017\",\"type\":\"Grid\"},{\"attributes\":{},\"id\":\"1026\",\"type\":\"SaveTool\"},{\"attributes\":{\"fill_alpha\":{\"value\":0.1},\"fill_color\":{\"value\":\"#1f77b4\"},\"line_alpha\":{\"value\":0.1},\"line_color\":{\"value\":\"#1f77b4\"},\"size\":{\"units\":\"screen\",\"value\":6.0},\"x\":{\"field\":\"x\"},\"y\":{\"field\":\"y\"}},\"id\":\"1051\",\"type\":\"Scatter\"},{\"attributes\":{\"source\":{\"id\":\"1036\",\"type\":\"ColumnDataSource\"}},\"id\":\"1040\",\"type\":\"CDSView\"},{\"attributes\":{\"label\":{\"value\":\"Modeled growth curve\"},\"renderers\":[{\"id\":\"1039\",\"type\":\"GlyphRenderer\"}]},\"id\":\"1048\",\"type\":\"LegendItem\"},{\"attributes\":{\"source\":{\"id\":\"1049\",\"type\":\"ColumnDataSource\"}},\"id\":\"1053\",\"type\":\"CDSView\"},{\"attributes\":{\"bottom_units\":\"screen\",\"fill_alpha\":{\"value\":0.5},\"fill_color\":{\"value\":\"lightgrey\"},\"left_units\":\"screen\",\"level\":\"overlay\",\"line_alpha\":{\"value\":1.0},\"line_color\":{\"value\":\"black\"},\"line_dash\":[4,4],\"line_width\":{\"value\":2},\"render_mode\":\"css\",\"right_units\":\"screen\",\"top_units\":\"screen\"},\"id\":\"1046\",\"type\":\"BoxAnnotation\"},{\"attributes\":{},\"id\":\"1011\",\"type\":\"LinearScale\"}],\"root_ids\":[\"1002\"]},\"title\":\"Bokeh Application\",\"version\":\"1.3.4\"}};\n",
       "  var render_items = [{\"docid\":\"1c13f149-f6dc-4fed-8f96-93004f7f2710\",\"roots\":{\"1002\":\"0690ec04-0fb1-4b98-a79c-da5db7b5c59b\"}}];\n",
       "  root.Bokeh.embed.embed_items_notebook(docs_json, render_items);\n",
       "\n",
       "  }\n",
       "  if (root.Bokeh !== undefined) {\n",
       "    embed_document(root);\n",
       "  } else {\n",
       "    var attempts = 0;\n",
       "    var timer = setInterval(function(root) {\n",
       "      if (root.Bokeh !== undefined) {\n",
       "        embed_document(root);\n",
       "        clearInterval(timer);\n",
       "      }\n",
       "      attempts++;\n",
       "      if (attempts > 100) {\n",
       "        console.log(\"Bokeh: ERROR: Unable to run BokehJS code because BokehJS library is missing\");\n",
       "        clearInterval(timer);\n",
       "      }\n",
       "    }, 10, root)\n",
       "  }\n",
       "})(window);"
      ],
      "application/vnd.bokehjs_exec.v0+json": ""
     },
     "metadata": {
      "application/vnd.bokehjs_exec.v0+json": {
       "id": "1002"
      }
     },
     "output_type": "display_data"
    }
   ],
   "source": [
    "p = figure(title=\"Vacation Planning\",plot_width=800,plot_height=600)\n",
    "p.line(N/12,returns_list,color='red',legend='Modeled growth curve')\n",
    "p.scatter(N/12,returns_list,color='blue',size=6.0)\n",
    "p.xaxis.axis_label = \"Year\"\n",
    "p.yaxis.axis_label = \"Assert value of the growth ($)\"\n",
    "show(p)"
   ]
  },
  {
   "cell_type": "markdown",
   "metadata": {},
   "source": [
    "# Model : Home planning"
   ]
  },
  {
   "cell_type": "code",
   "execution_count": 18,
   "metadata": {},
   "outputs": [],
   "source": [
    "I = 1800\n",
    "r = 1.8\n",
    "T = 6\n",
    "N = 12*T"
   ]
  },
  {
   "cell_type": "code",
   "execution_count": 19,
   "metadata": {},
   "outputs": [
    {
     "name": "stdout",
     "output_type": "stream",
     "text": [
      "Returns 265979.7\n",
      "Gains 136379.7\n",
      "Post Tax returns 231884.8\n"
     ]
    }
   ],
   "source": [
    "R = get_returns(I,r,N)\n",
    "G = R - I*N\n",
    "print(f\"Returns {R:.1f}\")\n",
    "print(f\"Gains {G:.1f}\")\n",
    "print(f\"Post Tax returns {R-0.25*G:.1f}\")"
   ]
  },
  {
   "cell_type": "code",
   "execution_count": 20,
   "metadata": {},
   "outputs": [],
   "source": [
    "N = np.arange(1,12*T)\n",
    "returns_list = [get_returns(I,r,n) for n in N]"
   ]
  },
  {
   "cell_type": "code",
   "execution_count": 21,
   "metadata": {},
   "outputs": [
    {
     "data": {
      "text/html": [
       "\n",
       "\n",
       "\n",
       "\n",
       "\n",
       "\n",
       "  <div class=\"bk-root\" id=\"417b235e-e04e-443a-b39b-921eaae77a4f\" data-root-id=\"1124\"></div>\n"
      ]
     },
     "metadata": {},
     "output_type": "display_data"
    },
    {
     "data": {
      "application/javascript": [
       "(function(root) {\n",
       "  function embed_document(root) {\n",
       "    \n",
       "  var docs_json = {\"5dea7a2b-a3a9-4108-9b61-aa5448b2252a\":{\"roots\":{\"references\":[{\"attributes\":{\"below\":[{\"id\":\"1135\",\"type\":\"LinearAxis\"}],\"center\":[{\"id\":\"1139\",\"type\":\"Grid\"},{\"id\":\"1144\",\"type\":\"Grid\"},{\"id\":\"1169\",\"type\":\"Legend\"}],\"left\":[{\"id\":\"1140\",\"type\":\"LinearAxis\"}],\"plot_width\":900,\"renderers\":[{\"id\":\"1161\",\"type\":\"GlyphRenderer\"},{\"id\":\"1174\",\"type\":\"GlyphRenderer\"}],\"title\":{\"id\":\"1125\",\"type\":\"Title\"},\"toolbar\":{\"id\":\"1151\",\"type\":\"Toolbar\"},\"x_range\":{\"id\":\"1127\",\"type\":\"DataRange1d\"},\"x_scale\":{\"id\":\"1131\",\"type\":\"LinearScale\"},\"y_range\":{\"id\":\"1129\",\"type\":\"DataRange1d\"},\"y_scale\":{\"id\":\"1133\",\"type\":\"LinearScale\"}},\"id\":\"1124\",\"subtype\":\"Figure\",\"type\":\"Plot\"},{\"attributes\":{\"line_color\":\"red\",\"x\":{\"field\":\"x\"},\"y\":{\"field\":\"y\"}},\"id\":\"1159\",\"type\":\"Line\"},{\"attributes\":{\"text\":\"Home Planning\"},\"id\":\"1125\",\"type\":\"Title\"},{\"attributes\":{},\"id\":\"1195\",\"type\":\"UnionRenderers\"},{\"attributes\":{},\"id\":\"1194\",\"type\":\"Selection\"},{\"attributes\":{\"data_source\":{\"id\":\"1171\",\"type\":\"ColumnDataSource\"},\"glyph\":{\"id\":\"1172\",\"type\":\"Scatter\"},\"hover_glyph\":null,\"muted_glyph\":null,\"nonselection_glyph\":{\"id\":\"1173\",\"type\":\"Scatter\"},\"selection_glyph\":null,\"view\":{\"id\":\"1175\",\"type\":\"CDSView\"}},\"id\":\"1174\",\"type\":\"GlyphRenderer\"},{\"attributes\":{\"callback\":null},\"id\":\"1129\",\"type\":\"DataRange1d\"},{\"attributes\":{},\"id\":\"1131\",\"type\":\"LinearScale\"},{\"attributes\":{\"fill_color\":{\"value\":\"blue\"},\"line_color\":{\"value\":\"blue\"},\"size\":{\"units\":\"screen\",\"value\":6.0},\"x\":{\"field\":\"x\"},\"y\":{\"field\":\"y\"}},\"id\":\"1172\",\"type\":\"Scatter\"},{\"attributes\":{\"callback\":null},\"id\":\"1127\",\"type\":\"DataRange1d\"},{\"attributes\":{},\"id\":\"1148\",\"type\":\"SaveTool\"},{\"attributes\":{},\"id\":\"1133\",\"type\":\"LinearScale\"},{\"attributes\":{},\"id\":\"1150\",\"type\":\"HelpTool\"},{\"attributes\":{\"line_alpha\":0.1,\"line_color\":\"#1f77b4\",\"x\":{\"field\":\"x\"},\"y\":{\"field\":\"y\"}},\"id\":\"1160\",\"type\":\"Line\"},{\"attributes\":{\"axis_label\":\"Year\",\"formatter\":{\"id\":\"1166\",\"type\":\"BasicTickFormatter\"},\"ticker\":{\"id\":\"1136\",\"type\":\"BasicTicker\"}},\"id\":\"1135\",\"type\":\"LinearAxis\"},{\"attributes\":{},\"id\":\"1141\",\"type\":\"BasicTicker\"},{\"attributes\":{},\"id\":\"1149\",\"type\":\"ResetTool\"},{\"attributes\":{\"callback\":null,\"data\":{\"x\":{\"__ndarray__\":\"VVVVVVVVtT9VVVVVVVXFPwAAAAAAANA/VVVVVVVV1T+rqqqqqqraPwAAAAAAAOA/q6qqqqqq4j9VVVVVVVXlPwAAAAAAAOg/q6qqqqqq6j9VVVVVVVXtPwAAAAAAAPA/VVVVVVVV8T+rqqqqqqryPwAAAAAAAPQ/VVVVVVVV9T+rqqqqqqr2PwAAAAAAAPg/VVVVVVVV+T+rqqqqqqr6PwAAAAAAAPw/VVVVVVVV/T+rqqqqqqr+PwAAAAAAAABAq6qqqqqqAEBVVVVVVVUBQAAAAAAAAAJAq6qqqqqqAkBVVVVVVVUDQAAAAAAAAARAq6qqqqqqBEBVVVVVVVUFQAAAAAAAAAZAq6qqqqqqBkBVVVVVVVUHQAAAAAAAAAhAq6qqqqqqCEBVVVVVVVUJQAAAAAAAAApAq6qqqqqqCkBVVVVVVVULQAAAAAAAAAxAq6qqqqqqDEBVVVVVVVUNQAAAAAAAAA5Aq6qqqqqqDkBVVVVVVVUPQAAAAAAAABBAVVVVVVVVEECrqqqqqqoQQAAAAAAAABFAVVVVVVVVEUCrqqqqqqoRQAAAAAAAABJAVVVVVVVVEkCrqqqqqqoSQAAAAAAAABNAVVVVVVVVE0CrqqqqqqoTQAAAAAAAABRAVVVVVVVVFECrqqqqqqoUQAAAAAAAABVAVVVVVVVVFUCrqqqqqqoVQAAAAAAAABZAVVVVVVVVFkCrqqqqqqoWQAAAAAAAABdAVVVVVVVVF0CrqqqqqqoXQA==\",\"dtype\":\"float64\",\"shape\":[71]},\"y\":[1832.4,3697.7832,5596.7432976,7529.884676956801,9497.822601142023,11501.183407962579,13540.604709305904,15616.735594073414,17730.236834766736,19881.781097792536,22072.053157552804,24301.750114388753,26571.58161644775,28882.270085543812,31234.5509470836,33629.172864131106,36066.89797568546,38548.5021392478,41074.77517775426,43646.521130953835,46264.558511311014,48929.7205645146,51642.85553467588,54404.82693430004,57216.51381911745,60078.81106786156,62992.62966708306,65958.89700109056,68978.5571471102,72052.57117575819,75181.91745692184,78367.59197114642,81610.60862662706,84911.99958190635,88272.81557438067,91694.12625471952,95177.02052730448,98722.60689679596,102332.01382093829,106006.39006971517,109746.90509097009,113554.74938260754,117431.13487149448,121377.29529918138,125394.48661456663,129483.98737362884,133647.0991463542,137885.14693098856,142199.4795757463,146591.47020810976,151062.51667185576,155614.0419719492,160247.49472744425,164964.34963253827,169766.10792592392,174654.29786859054,179630.47523022513,184696.2237843692,189853.15581248788,195102.91261711263,200447.1650442206,205887.6140150166,211425.99106728693,217064.0589064981,222803.61196681508,228646.47698221775,234594.51356789767,240649.6148121198,246813.707878738,253088.75462055526,259476.75220372528]},\"selected\":{\"id\":\"1192\",\"type\":\"Selection\"},\"selection_policy\":{\"id\":\"1193\",\"type\":\"UnionRenderers\"}},\"id\":\"1158\",\"type\":\"ColumnDataSource\"},{\"attributes\":{\"fill_alpha\":{\"value\":0.1},\"fill_color\":{\"value\":\"#1f77b4\"},\"line_alpha\":{\"value\":0.1},\"line_color\":{\"value\":\"#1f77b4\"},\"size\":{\"units\":\"screen\",\"value\":6.0},\"x\":{\"field\":\"x\"},\"y\":{\"field\":\"y\"}},\"id\":\"1173\",\"type\":\"Scatter\"},{\"attributes\":{},\"id\":\"1136\",\"type\":\"BasicTicker\"},{\"attributes\":{\"ticker\":{\"id\":\"1136\",\"type\":\"BasicTicker\"}},\"id\":\"1139\",\"type\":\"Grid\"},{\"attributes\":{\"active_drag\":\"auto\",\"active_inspect\":\"auto\",\"active_multi\":null,\"active_scroll\":\"auto\",\"active_tap\":\"auto\",\"tools\":[{\"id\":\"1145\",\"type\":\"PanTool\"},{\"id\":\"1146\",\"type\":\"WheelZoomTool\"},{\"id\":\"1147\",\"type\":\"BoxZoomTool\"},{\"id\":\"1148\",\"type\":\"SaveTool\"},{\"id\":\"1149\",\"type\":\"ResetTool\"},{\"id\":\"1150\",\"type\":\"HelpTool\"}]},\"id\":\"1151\",\"type\":\"Toolbar\"},{\"attributes\":{\"dimension\":1,\"ticker\":{\"id\":\"1141\",\"type\":\"BasicTicker\"}},\"id\":\"1144\",\"type\":\"Grid\"},{\"attributes\":{\"source\":{\"id\":\"1171\",\"type\":\"ColumnDataSource\"}},\"id\":\"1175\",\"type\":\"CDSView\"},{\"attributes\":{},\"id\":\"1166\",\"type\":\"BasicTickFormatter\"},{\"attributes\":{\"axis_label\":\"Assert value of the growth ($)\",\"formatter\":{\"id\":\"1164\",\"type\":\"BasicTickFormatter\"},\"ticker\":{\"id\":\"1141\",\"type\":\"BasicTicker\"}},\"id\":\"1140\",\"type\":\"LinearAxis\"},{\"attributes\":{},\"id\":\"1146\",\"type\":\"WheelZoomTool\"},{\"attributes\":{\"overlay\":{\"id\":\"1168\",\"type\":\"BoxAnnotation\"}},\"id\":\"1147\",\"type\":\"BoxZoomTool\"},{\"attributes\":{},\"id\":\"1164\",\"type\":\"BasicTickFormatter\"},{\"attributes\":{},\"id\":\"1193\",\"type\":\"UnionRenderers\"},{\"attributes\":{\"items\":[{\"id\":\"1170\",\"type\":\"LegendItem\"}]},\"id\":\"1169\",\"type\":\"Legend\"},{\"attributes\":{},\"id\":\"1145\",\"type\":\"PanTool\"},{\"attributes\":{\"data_source\":{\"id\":\"1158\",\"type\":\"ColumnDataSource\"},\"glyph\":{\"id\":\"1159\",\"type\":\"Line\"},\"hover_glyph\":null,\"muted_glyph\":null,\"nonselection_glyph\":{\"id\":\"1160\",\"type\":\"Line\"},\"selection_glyph\":null,\"view\":{\"id\":\"1162\",\"type\":\"CDSView\"}},\"id\":\"1161\",\"type\":\"GlyphRenderer\"},{\"attributes\":{},\"id\":\"1192\",\"type\":\"Selection\"},{\"attributes\":{\"source\":{\"id\":\"1158\",\"type\":\"ColumnDataSource\"}},\"id\":\"1162\",\"type\":\"CDSView\"},{\"attributes\":{\"callback\":null,\"data\":{\"x\":{\"__ndarray__\":\"VVVVVVVVtT9VVVVVVVXFPwAAAAAAANA/VVVVVVVV1T+rqqqqqqraPwAAAAAAAOA/q6qqqqqq4j9VVVVVVVXlPwAAAAAAAOg/q6qqqqqq6j9VVVVVVVXtPwAAAAAAAPA/VVVVVVVV8T+rqqqqqqryPwAAAAAAAPQ/VVVVVVVV9T+rqqqqqqr2PwAAAAAAAPg/VVVVVVVV+T+rqqqqqqr6PwAAAAAAAPw/VVVVVVVV/T+rqqqqqqr+PwAAAAAAAABAq6qqqqqqAEBVVVVVVVUBQAAAAAAAAAJAq6qqqqqqAkBVVVVVVVUDQAAAAAAAAARAq6qqqqqqBEBVVVVVVVUFQAAAAAAAAAZAq6qqqqqqBkBVVVVVVVUHQAAAAAAAAAhAq6qqqqqqCEBVVVVVVVUJQAAAAAAAAApAq6qqqqqqCkBVVVVVVVULQAAAAAAAAAxAq6qqqqqqDEBVVVVVVVUNQAAAAAAAAA5Aq6qqqqqqDkBVVVVVVVUPQAAAAAAAABBAVVVVVVVVEECrqqqqqqoQQAAAAAAAABFAVVVVVVVVEUCrqqqqqqoRQAAAAAAAABJAVVVVVVVVEkCrqqqqqqoSQAAAAAAAABNAVVVVVVVVE0CrqqqqqqoTQAAAAAAAABRAVVVVVVVVFECrqqqqqqoUQAAAAAAAABVAVVVVVVVVFUCrqqqqqqoVQAAAAAAAABZAVVVVVVVVFkCrqqqqqqoWQAAAAAAAABdAVVVVVVVVF0CrqqqqqqoXQA==\",\"dtype\":\"float64\",\"shape\":[71]},\"y\":[1832.4,3697.7832,5596.7432976,7529.884676956801,9497.822601142023,11501.183407962579,13540.604709305904,15616.735594073414,17730.236834766736,19881.781097792536,22072.053157552804,24301.750114388753,26571.58161644775,28882.270085543812,31234.5509470836,33629.172864131106,36066.89797568546,38548.5021392478,41074.77517775426,43646.521130953835,46264.558511311014,48929.7205645146,51642.85553467588,54404.82693430004,57216.51381911745,60078.81106786156,62992.62966708306,65958.89700109056,68978.5571471102,72052.57117575819,75181.91745692184,78367.59197114642,81610.60862662706,84911.99958190635,88272.81557438067,91694.12625471952,95177.02052730448,98722.60689679596,102332.01382093829,106006.39006971517,109746.90509097009,113554.74938260754,117431.13487149448,121377.29529918138,125394.48661456663,129483.98737362884,133647.0991463542,137885.14693098856,142199.4795757463,146591.47020810976,151062.51667185576,155614.0419719492,160247.49472744425,164964.34963253827,169766.10792592392,174654.29786859054,179630.47523022513,184696.2237843692,189853.15581248788,195102.91261711263,200447.1650442206,205887.6140150166,211425.99106728693,217064.0589064981,222803.61196681508,228646.47698221775,234594.51356789767,240649.6148121198,246813.707878738,253088.75462055526,259476.75220372528]},\"selected\":{\"id\":\"1194\",\"type\":\"Selection\"},\"selection_policy\":{\"id\":\"1195\",\"type\":\"UnionRenderers\"}},\"id\":\"1171\",\"type\":\"ColumnDataSource\"},{\"attributes\":{\"bottom_units\":\"screen\",\"fill_alpha\":{\"value\":0.5},\"fill_color\":{\"value\":\"lightgrey\"},\"left_units\":\"screen\",\"level\":\"overlay\",\"line_alpha\":{\"value\":1.0},\"line_color\":{\"value\":\"black\"},\"line_dash\":[4,4],\"line_width\":{\"value\":2},\"render_mode\":\"css\",\"right_units\":\"screen\",\"top_units\":\"screen\"},\"id\":\"1168\",\"type\":\"BoxAnnotation\"},{\"attributes\":{\"label\":{\"value\":\"Modeled growth curve\"},\"renderers\":[{\"id\":\"1161\",\"type\":\"GlyphRenderer\"}]},\"id\":\"1170\",\"type\":\"LegendItem\"}],\"root_ids\":[\"1124\"]},\"title\":\"Bokeh Application\",\"version\":\"1.3.4\"}};\n",
       "  var render_items = [{\"docid\":\"5dea7a2b-a3a9-4108-9b61-aa5448b2252a\",\"roots\":{\"1124\":\"417b235e-e04e-443a-b39b-921eaae77a4f\"}}];\n",
       "  root.Bokeh.embed.embed_items_notebook(docs_json, render_items);\n",
       "\n",
       "  }\n",
       "  if (root.Bokeh !== undefined) {\n",
       "    embed_document(root);\n",
       "  } else {\n",
       "    var attempts = 0;\n",
       "    var timer = setInterval(function(root) {\n",
       "      if (root.Bokeh !== undefined) {\n",
       "        embed_document(root);\n",
       "        clearInterval(timer);\n",
       "      }\n",
       "      attempts++;\n",
       "      if (attempts > 100) {\n",
       "        console.log(\"Bokeh: ERROR: Unable to run BokehJS code because BokehJS library is missing\");\n",
       "        clearInterval(timer);\n",
       "      }\n",
       "    }, 10, root)\n",
       "  }\n",
       "})(window);"
      ],
      "application/vnd.bokehjs_exec.v0+json": ""
     },
     "metadata": {
      "application/vnd.bokehjs_exec.v0+json": {
       "id": "1124"
      }
     },
     "output_type": "display_data"
    }
   ],
   "source": [
    "p = figure(title=\"Home Planning\",plot_width=900,plot_height=600)\n",
    "p.line(N/12,returns_list,color='red',legend='Modeled growth curve')\n",
    "p.scatter(N/12,returns_list,color='blue',size=6.0)\n",
    "p.xaxis.axis_label = \"Year\"\n",
    "p.yaxis.axis_label = \"Assert value of the growth ($)\"\n",
    "show(p)"
   ]
  },
  {
   "cell_type": "markdown",
   "metadata": {},
   "source": [
    "# Model : Home Planning"
   ]
  },
  {
   "cell_type": "code",
   "execution_count": 22,
   "metadata": {},
   "outputs": [],
   "source": [
    "def get_investment(R,r,N):\n",
    "    return R / sum([((1+r/100)**(N-i+1)) for i in np.arange(1,N+1)])"
   ]
  },
  {
   "cell_type": "code",
   "execution_count": 23,
   "metadata": {},
   "outputs": [],
   "source": [
    "goal_dict = {}"
   ]
  },
  {
   "cell_type": "code",
   "execution_count": 24,
   "metadata": {},
   "outputs": [],
   "source": [
    "R = 250000\n",
    "r = 2\n",
    "T = 6\n",
    "N = 12*T"
   ]
  },
  {
   "cell_type": "code",
   "execution_count": 25,
   "metadata": {},
   "outputs": [
    {
     "data": {
      "text/plain": [
       "1550.6938011994614"
      ]
     },
     "execution_count": 25,
     "metadata": {},
     "output_type": "execute_result"
    }
   ],
   "source": [
    "I = get_investment(R,r,N)\n",
    "goal_dict['home'] = I\n",
    "I"
   ]
  },
  {
   "cell_type": "code",
   "execution_count": 26,
   "metadata": {},
   "outputs": [
    {
     "name": "stdout",
     "output_type": "stream",
     "text": [
      "Returns $250000.0\n",
      "Gains $138350.0\n",
      "Post Tax returns $215412.5\n"
     ]
    },
    {
     "data": {
      "text/html": [
       "\n",
       "\n",
       "\n",
       "\n",
       "\n",
       "\n",
       "  <div class=\"bk-root\" id=\"0028227c-d5d4-465e-8a74-74f108469c86\" data-root-id=\"1256\"></div>\n"
      ]
     },
     "metadata": {},
     "output_type": "display_data"
    },
    {
     "data": {
      "application/javascript": [
       "(function(root) {\n",
       "  function embed_document(root) {\n",
       "    \n",
       "  var docs_json = {\"389d8e3b-9250-4590-83ea-71207a427c94\":{\"roots\":{\"references\":[{\"attributes\":{\"below\":[{\"id\":\"1267\",\"type\":\"LinearAxis\"}],\"center\":[{\"id\":\"1271\",\"type\":\"Grid\"},{\"id\":\"1276\",\"type\":\"Grid\"},{\"id\":\"1301\",\"type\":\"Legend\"}],\"left\":[{\"id\":\"1272\",\"type\":\"LinearAxis\"}],\"plot_height\":500,\"plot_width\":900,\"renderers\":[{\"id\":\"1293\",\"type\":\"GlyphRenderer\"},{\"id\":\"1306\",\"type\":\"GlyphRenderer\"}],\"title\":{\"id\":\"1257\",\"type\":\"Title\"},\"toolbar\":{\"id\":\"1283\",\"type\":\"Toolbar\"},\"x_range\":{\"id\":\"1259\",\"type\":\"DataRange1d\"},\"x_scale\":{\"id\":\"1263\",\"type\":\"LinearScale\"},\"y_range\":{\"id\":\"1261\",\"type\":\"DataRange1d\"},\"y_scale\":{\"id\":\"1265\",\"type\":\"LinearScale\"}},\"id\":\"1256\",\"subtype\":\"Figure\",\"type\":\"Plot\"},{\"attributes\":{},\"id\":\"1263\",\"type\":\"LinearScale\"},{\"attributes\":{},\"id\":\"1265\",\"type\":\"LinearScale\"},{\"attributes\":{\"source\":{\"id\":\"1290\",\"type\":\"ColumnDataSource\"}},\"id\":\"1294\",\"type\":\"CDSView\"},{\"attributes\":{},\"id\":\"1277\",\"type\":\"PanTool\"},{\"attributes\":{\"axis_label\":\"Year\",\"formatter\":{\"id\":\"1298\",\"type\":\"BasicTickFormatter\"},\"ticker\":{\"id\":\"1268\",\"type\":\"BasicTicker\"}},\"id\":\"1267\",\"type\":\"LinearAxis\"},{\"attributes\":{},\"id\":\"1280\",\"type\":\"SaveTool\"},{\"attributes\":{\"data_source\":{\"id\":\"1303\",\"type\":\"ColumnDataSource\"},\"glyph\":{\"id\":\"1304\",\"type\":\"Scatter\"},\"hover_glyph\":null,\"muted_glyph\":null,\"nonselection_glyph\":{\"id\":\"1305\",\"type\":\"Scatter\"},\"selection_glyph\":null,\"view\":{\"id\":\"1307\",\"type\":\"CDSView\"}},\"id\":\"1306\",\"type\":\"GlyphRenderer\"},{\"attributes\":{},\"id\":\"1268\",\"type\":\"BasicTicker\"},{\"attributes\":{\"ticker\":{\"id\":\"1268\",\"type\":\"BasicTicker\"}},\"id\":\"1271\",\"type\":\"Grid\"},{\"attributes\":{\"line_alpha\":0.1,\"line_color\":\"#1f77b4\",\"x\":{\"field\":\"x\"},\"y\":{\"field\":\"y\"}},\"id\":\"1292\",\"type\":\"Line\"},{\"attributes\":{\"bottom_units\":\"screen\",\"fill_alpha\":{\"value\":0.5},\"fill_color\":{\"value\":\"lightgrey\"},\"left_units\":\"screen\",\"level\":\"overlay\",\"line_alpha\":{\"value\":1.0},\"line_color\":{\"value\":\"black\"},\"line_dash\":[4,4],\"line_width\":{\"value\":2},\"render_mode\":\"css\",\"right_units\":\"screen\",\"top_units\":\"screen\"},\"id\":\"1300\",\"type\":\"BoxAnnotation\"},{\"attributes\":{\"axis_label\":\"Assert value of the growth ($)\",\"formatter\":{\"id\":\"1296\",\"type\":\"BasicTickFormatter\"},\"ticker\":{\"id\":\"1273\",\"type\":\"BasicTicker\"}},\"id\":\"1272\",\"type\":\"LinearAxis\"},{\"attributes\":{\"data_source\":{\"id\":\"1290\",\"type\":\"ColumnDataSource\"},\"glyph\":{\"id\":\"1291\",\"type\":\"Line\"},\"hover_glyph\":null,\"muted_glyph\":null,\"nonselection_glyph\":{\"id\":\"1292\",\"type\":\"Line\"},\"selection_glyph\":null,\"view\":{\"id\":\"1294\",\"type\":\"CDSView\"}},\"id\":\"1293\",\"type\":\"GlyphRenderer\"},{\"attributes\":{},\"id\":\"1298\",\"type\":\"BasicTickFormatter\"},{\"attributes\":{\"fill_alpha\":{\"value\":0.1},\"fill_color\":{\"value\":\"#1f77b4\"},\"line_alpha\":{\"value\":0.1},\"line_color\":{\"value\":\"#1f77b4\"},\"size\":{\"units\":\"screen\",\"value\":6.0},\"x\":{\"field\":\"x\"},\"y\":{\"field\":\"y\"}},\"id\":\"1305\",\"type\":\"Scatter\"},{\"attributes\":{\"active_drag\":\"auto\",\"active_inspect\":\"auto\",\"active_multi\":null,\"active_scroll\":\"auto\",\"active_tap\":\"auto\",\"tools\":[{\"id\":\"1277\",\"type\":\"PanTool\"},{\"id\":\"1278\",\"type\":\"WheelZoomTool\"},{\"id\":\"1279\",\"type\":\"BoxZoomTool\"},{\"id\":\"1280\",\"type\":\"SaveTool\"},{\"id\":\"1281\",\"type\":\"ResetTool\"},{\"id\":\"1282\",\"type\":\"HelpTool\"}]},\"id\":\"1283\",\"type\":\"Toolbar\"},{\"attributes\":{\"dimension\":1,\"ticker\":{\"id\":\"1273\",\"type\":\"BasicTicker\"}},\"id\":\"1276\",\"type\":\"Grid\"},{\"attributes\":{\"source\":{\"id\":\"1303\",\"type\":\"ColumnDataSource\"}},\"id\":\"1307\",\"type\":\"CDSView\"},{\"attributes\":{\"overlay\":{\"id\":\"1300\",\"type\":\"BoxAnnotation\"}},\"id\":\"1279\",\"type\":\"BoxZoomTool\"},{\"attributes\":{},\"id\":\"1273\",\"type\":\"BasicTicker\"},{\"attributes\":{\"label\":{\"value\":\"Modeled growth curve\"},\"renderers\":[{\"id\":\"1293\",\"type\":\"GlyphRenderer\"}]},\"id\":\"1302\",\"type\":\"LegendItem\"},{\"attributes\":{},\"id\":\"1335\",\"type\":\"UnionRenderers\"},{\"attributes\":{},\"id\":\"1278\",\"type\":\"WheelZoomTool\"},{\"attributes\":{\"callback\":null,\"data\":{\"x\":{\"__ndarray__\":\"VVVVVVVVtT9VVVVVVVXFPwAAAAAAANA/VVVVVVVV1T+rqqqqqqraPwAAAAAAAOA/q6qqqqqq4j9VVVVVVVXlPwAAAAAAAOg/q6qqqqqq6j9VVVVVVVXtPwAAAAAAAPA/VVVVVVVV8T+rqqqqqqryPwAAAAAAAPQ/VVVVVVVV9T+rqqqqqqr2PwAAAAAAAPg/VVVVVVVV+T+rqqqqqqr6PwAAAAAAAPw/VVVVVVVV/T+rqqqqqqr+PwAAAAAAAABAq6qqqqqqAEBVVVVVVVUBQAAAAAAAAAJAq6qqqqqqAkBVVVVVVVUDQAAAAAAAAARAq6qqqqqqBEBVVVVVVVUFQAAAAAAAAAZAq6qqqqqqBkBVVVVVVVUHQAAAAAAAAAhAq6qqqqqqCEBVVVVVVVUJQAAAAAAAAApAq6qqqqqqCkBVVVVVVVULQAAAAAAAAAxAq6qqqqqqDEBVVVVVVVUNQAAAAAAAAA5Aq6qqqqqqDkBVVVVVVVUPQAAAAAAAABBAVVVVVVVVEECrqqqqqqoQQAAAAAAAABFAVVVVVVVVEUCrqqqqqqoRQAAAAAAAABJAVVVVVVVVEkCrqqqqqqoSQAAAAAAAABNAVVVVVVVVE0CrqqqqqqoTQAAAAAAAABRAVVVVVVVVFECrqqqqqqoUQAAAAAAAABVAVVVVVVVVFUCrqqqqqqoVQAAAAAAAABZAVVVVVVVVFkCrqqqqqqoWQAAAAAAAABdAVVVVVVVVF0CrqqqqqqoXQA==\",\"dtype\":\"float64\",\"shape\":[71]},\"y\":[1581.7076772234507,3195.0495079913703,4840.658175374649,6519.1790161055915,8231.270273651155,9977.603356347629,11758.863100698032,13575.748039935443,15428.970677957603,17319.257768740208,19247.35060133846,21214.005290588684,23219.993073623908,25266.10061231984,27353.130301789686,29481.900585048927,31653.246273973356,33868.01887667628,36127.086931433245,38431.33634728535,40781.67075145451,43179.011843707056,45624.299757804656,48118.49343018419,50662.57097601133,53257.530072755006,55904.38835143357,58604.18379568569,61357.97514882285,64166.84232902276,67031.88685282669,69954.23226710668,72935.02458967226,75975.43275868914,79076.6490910864,82239.88975013157,85466.39522235766,88757.43080402825,92114.28709733226,95538.28051650235,99030.75380405584,102593.07655736043,106226.64576573107,109932.88635826913,113713.251762658,117569.22447513462,121502.31664186074,125514.07065192143,129606.0597421833,133779.8886142504,138037.19406375894,142379.64562225758,146808.94621192617,151326.83281338814,155935.0771468794,160635.48636704046,165429.9037716047,170320.20952426028,175308.32139196893,180396.19549703173,185585.8270841958,190879.25130310317,196278.54400638866,201785.8225637399,207403.24669223817,213133.01930330638,218977.387366596,224938.64279115133,231019.1233241978,237221.2134679052,243547.3454144868]},\"selected\":{\"id\":\"1336\",\"type\":\"Selection\"},\"selection_policy\":{\"id\":\"1337\",\"type\":\"UnionRenderers\"}},\"id\":\"1303\",\"type\":\"ColumnDataSource\"},{\"attributes\":{},\"id\":\"1334\",\"type\":\"Selection\"},{\"attributes\":{\"callback\":null},\"id\":\"1261\",\"type\":\"DataRange1d\"},{\"attributes\":{\"line_color\":\"red\",\"x\":{\"field\":\"x\"},\"y\":{\"field\":\"y\"}},\"id\":\"1291\",\"type\":\"Line\"},{\"attributes\":{\"callback\":null,\"data\":{\"x\":{\"__ndarray__\":\"VVVVVVVVtT9VVVVVVVXFPwAAAAAAANA/VVVVVVVV1T+rqqqqqqraPwAAAAAAAOA/q6qqqqqq4j9VVVVVVVXlPwAAAAAAAOg/q6qqqqqq6j9VVVVVVVXtPwAAAAAAAPA/VVVVVVVV8T+rqqqqqqryPwAAAAAAAPQ/VVVVVVVV9T+rqqqqqqr2PwAAAAAAAPg/VVVVVVVV+T+rqqqqqqr6PwAAAAAAAPw/VVVVVVVV/T+rqqqqqqr+PwAAAAAAAABAq6qqqqqqAEBVVVVVVVUBQAAAAAAAAAJAq6qqqqqqAkBVVVVVVVUDQAAAAAAAAARAq6qqqqqqBEBVVVVVVVUFQAAAAAAAAAZAq6qqqqqqBkBVVVVVVVUHQAAAAAAAAAhAq6qqqqqqCEBVVVVVVVUJQAAAAAAAAApAq6qqqqqqCkBVVVVVVVULQAAAAAAAAAxAq6qqqqqqDEBVVVVVVVUNQAAAAAAAAA5Aq6qqqqqqDkBVVVVVVVUPQAAAAAAAABBAVVVVVVVVEECrqqqqqqoQQAAAAAAAABFAVVVVVVVVEUCrqqqqqqoRQAAAAAAAABJAVVVVVVVVEkCrqqqqqqoSQAAAAAAAABNAVVVVVVVVE0CrqqqqqqoTQAAAAAAAABRAVVVVVVVVFECrqqqqqqoUQAAAAAAAABVAVVVVVVVVFUCrqqqqqqoVQAAAAAAAABZAVVVVVVVVFkCrqqqqqqoWQAAAAAAAABdAVVVVVVVVF0CrqqqqqqoXQA==\",\"dtype\":\"float64\",\"shape\":[71]},\"y\":[1581.7076772234507,3195.0495079913703,4840.658175374649,6519.1790161055915,8231.270273651155,9977.603356347629,11758.863100698032,13575.748039935443,15428.970677957603,17319.257768740208,19247.35060133846,21214.005290588684,23219.993073623908,25266.10061231984,27353.130301789686,29481.900585048927,31653.246273973356,33868.01887667628,36127.086931433245,38431.33634728535,40781.67075145451,43179.011843707056,45624.299757804656,48118.49343018419,50662.57097601133,53257.530072755006,55904.38835143357,58604.18379568569,61357.97514882285,64166.84232902276,67031.88685282669,69954.23226710668,72935.02458967226,75975.43275868914,79076.6490910864,82239.88975013157,85466.39522235766,88757.43080402825,92114.28709733226,95538.28051650235,99030.75380405584,102593.07655736043,106226.64576573107,109932.88635826913,113713.251762658,117569.22447513462,121502.31664186074,125514.07065192143,129606.0597421833,133779.8886142504,138037.19406375894,142379.64562225758,146808.94621192617,151326.83281338814,155935.0771468794,160635.48636704046,165429.9037716047,170320.20952426028,175308.32139196893,180396.19549703173,185585.8270841958,190879.25130310317,196278.54400638866,201785.8225637399,207403.24669223817,213133.01930330638,218977.387366596,224938.64279115133,231019.1233241978,237221.2134679052,243547.3454144868]},\"selected\":{\"id\":\"1334\",\"type\":\"Selection\"},\"selection_policy\":{\"id\":\"1335\",\"type\":\"UnionRenderers\"}},\"id\":\"1290\",\"type\":\"ColumnDataSource\"},{\"attributes\":{\"callback\":null},\"id\":\"1259\",\"type\":\"DataRange1d\"},{\"attributes\":{},\"id\":\"1336\",\"type\":\"Selection\"},{\"attributes\":{\"fill_color\":{\"value\":\"blue\"},\"line_color\":{\"value\":\"blue\"},\"size\":{\"units\":\"screen\",\"value\":6.0},\"x\":{\"field\":\"x\"},\"y\":{\"field\":\"y\"}},\"id\":\"1304\",\"type\":\"Scatter\"},{\"attributes\":{},\"id\":\"1337\",\"type\":\"UnionRenderers\"},{\"attributes\":{\"text\":\"Home Planning\"},\"id\":\"1257\",\"type\":\"Title\"},{\"attributes\":{},\"id\":\"1281\",\"type\":\"ResetTool\"},{\"attributes\":{},\"id\":\"1282\",\"type\":\"HelpTool\"},{\"attributes\":{},\"id\":\"1296\",\"type\":\"BasicTickFormatter\"},{\"attributes\":{\"items\":[{\"id\":\"1302\",\"type\":\"LegendItem\"}]},\"id\":\"1301\",\"type\":\"Legend\"}],\"root_ids\":[\"1256\"]},\"title\":\"Bokeh Application\",\"version\":\"1.3.4\"}};\n",
       "  var render_items = [{\"docid\":\"389d8e3b-9250-4590-83ea-71207a427c94\",\"roots\":{\"1256\":\"0028227c-d5d4-465e-8a74-74f108469c86\"}}];\n",
       "  root.Bokeh.embed.embed_items_notebook(docs_json, render_items);\n",
       "\n",
       "  }\n",
       "  if (root.Bokeh !== undefined) {\n",
       "    embed_document(root);\n",
       "  } else {\n",
       "    var attempts = 0;\n",
       "    var timer = setInterval(function(root) {\n",
       "      if (root.Bokeh !== undefined) {\n",
       "        embed_document(root);\n",
       "        clearInterval(timer);\n",
       "      }\n",
       "      attempts++;\n",
       "      if (attempts > 100) {\n",
       "        console.log(\"Bokeh: ERROR: Unable to run BokehJS code because BokehJS library is missing\");\n",
       "        clearInterval(timer);\n",
       "      }\n",
       "    }, 10, root)\n",
       "  }\n",
       "})(window);"
      ],
      "application/vnd.bokehjs_exec.v0+json": ""
     },
     "metadata": {
      "application/vnd.bokehjs_exec.v0+json": {
       "id": "1256"
      }
     },
     "output_type": "display_data"
    }
   ],
   "source": [
    "R = get_returns(I,r,N)\n",
    "G = R - I*N\n",
    "print(f\"Returns ${R:.1f}\")\n",
    "print(f\"Gains ${G:.1f}\")\n",
    "print(f\"Post Tax returns ${R-0.25*G:.1f}\")\n",
    "\n",
    "N = np.arange(1,12*T)\n",
    "returns_list = [get_returns(I,r,n) for n in N]\n",
    "\n",
    "p = figure(title=\"Home Planning\",plot_width=900,plot_height=500)\n",
    "p.line(N/12,returns_list,color='red',legend='Modeled growth curve')\n",
    "p.scatter(N/12,returns_list,color='blue',size=6.0)\n",
    "p.xaxis.axis_label = \"Year\"\n",
    "p.yaxis.axis_label = \"Assert value of the growth ($)\"\n",
    "show(p)"
   ]
  },
  {
   "cell_type": "code",
   "execution_count": 27,
   "metadata": {},
   "outputs": [],
   "source": [
    "R = 3000\n",
    "r = 1\n",
    "T = 1\n",
    "N = 12*T"
   ]
  },
  {
   "cell_type": "code",
   "execution_count": 28,
   "metadata": {},
   "outputs": [
    {
     "data": {
      "text/plain": [
       "234.20432280695562"
      ]
     },
     "execution_count": 28,
     "metadata": {},
     "output_type": "execute_result"
    }
   ],
   "source": [
    "I = get_investment(R,r,N)\n",
    "goal_dict['vacation'] = I\n",
    "I"
   ]
  },
  {
   "cell_type": "code",
   "execution_count": 29,
   "metadata": {},
   "outputs": [
    {
     "name": "stdout",
     "output_type": "stream",
     "text": [
      "Returns $3000.0\n",
      "Gains $189.5\n",
      "Post Tax returns $2952.6\n"
     ]
    },
    {
     "data": {
      "text/html": [
       "\n",
       "\n",
       "\n",
       "\n",
       "\n",
       "\n",
       "  <div class=\"bk-root\" id=\"69b16969-65dc-470f-97eb-0d0d3d336c94\" data-root-id=\"1398\"></div>\n"
      ]
     },
     "metadata": {},
     "output_type": "display_data"
    },
    {
     "data": {
      "application/javascript": [
       "(function(root) {\n",
       "  function embed_document(root) {\n",
       "    \n",
       "  var docs_json = {\"c7851302-426e-4c86-a4a2-ccc24d82955c\":{\"roots\":{\"references\":[{\"attributes\":{\"below\":[{\"id\":\"1409\",\"type\":\"LinearAxis\"}],\"center\":[{\"id\":\"1413\",\"type\":\"Grid\"},{\"id\":\"1418\",\"type\":\"Grid\"},{\"id\":\"1443\",\"type\":\"Legend\"}],\"left\":[{\"id\":\"1414\",\"type\":\"LinearAxis\"}],\"plot_height\":500,\"plot_width\":900,\"renderers\":[{\"id\":\"1435\",\"type\":\"GlyphRenderer\"},{\"id\":\"1448\",\"type\":\"GlyphRenderer\"}],\"title\":{\"id\":\"1399\",\"type\":\"Title\"},\"toolbar\":{\"id\":\"1425\",\"type\":\"Toolbar\"},\"x_range\":{\"id\":\"1401\",\"type\":\"DataRange1d\"},\"x_scale\":{\"id\":\"1405\",\"type\":\"LinearScale\"},\"y_range\":{\"id\":\"1403\",\"type\":\"DataRange1d\"},\"y_scale\":{\"id\":\"1407\",\"type\":\"LinearScale\"}},\"id\":\"1398\",\"subtype\":\"Figure\",\"type\":\"Plot\"},{\"attributes\":{\"dimension\":1,\"ticker\":{\"id\":\"1415\",\"type\":\"BasicTicker\"}},\"id\":\"1418\",\"type\":\"Grid\"},{\"attributes\":{\"fill_alpha\":{\"value\":0.1},\"fill_color\":{\"value\":\"#1f77b4\"},\"line_alpha\":{\"value\":0.1},\"line_color\":{\"value\":\"#1f77b4\"},\"size\":{\"units\":\"screen\",\"value\":6.0},\"x\":{\"field\":\"x\"},\"y\":{\"field\":\"y\"}},\"id\":\"1447\",\"type\":\"Scatter\"},{\"attributes\":{},\"id\":\"1486\",\"type\":\"Selection\"},{\"attributes\":{\"items\":[{\"id\":\"1444\",\"type\":\"LegendItem\"}]},\"id\":\"1443\",\"type\":\"Legend\"},{\"attributes\":{},\"id\":\"1423\",\"type\":\"ResetTool\"},{\"attributes\":{\"data_source\":{\"id\":\"1432\",\"type\":\"ColumnDataSource\"},\"glyph\":{\"id\":\"1433\",\"type\":\"Line\"},\"hover_glyph\":null,\"muted_glyph\":null,\"nonselection_glyph\":{\"id\":\"1434\",\"type\":\"Line\"},\"selection_glyph\":null,\"view\":{\"id\":\"1436\",\"type\":\"CDSView\"}},\"id\":\"1435\",\"type\":\"GlyphRenderer\"},{\"attributes\":{},\"id\":\"1422\",\"type\":\"SaveTool\"},{\"attributes\":{\"callback\":null},\"id\":\"1401\",\"type\":\"DataRange1d\"},{\"attributes\":{\"data_source\":{\"id\":\"1445\",\"type\":\"ColumnDataSource\"},\"glyph\":{\"id\":\"1446\",\"type\":\"Scatter\"},\"hover_glyph\":null,\"muted_glyph\":null,\"nonselection_glyph\":{\"id\":\"1447\",\"type\":\"Scatter\"},\"selection_glyph\":null,\"view\":{\"id\":\"1449\",\"type\":\"CDSView\"}},\"id\":\"1448\",\"type\":\"GlyphRenderer\"},{\"attributes\":{\"source\":{\"id\":\"1432\",\"type\":\"ColumnDataSource\"}},\"id\":\"1436\",\"type\":\"CDSView\"},{\"attributes\":{\"label\":{\"value\":\"Modeled growth curve\"},\"renderers\":[{\"id\":\"1435\",\"type\":\"GlyphRenderer\"}]},\"id\":\"1444\",\"type\":\"LegendItem\"},{\"attributes\":{\"bottom_units\":\"screen\",\"fill_alpha\":{\"value\":0.5},\"fill_color\":{\"value\":\"lightgrey\"},\"left_units\":\"screen\",\"level\":\"overlay\",\"line_alpha\":{\"value\":1.0},\"line_color\":{\"value\":\"black\"},\"line_dash\":[4,4],\"line_width\":{\"value\":2},\"render_mode\":\"css\",\"right_units\":\"screen\",\"top_units\":\"screen\"},\"id\":\"1442\",\"type\":\"BoxAnnotation\"},{\"attributes\":{\"source\":{\"id\":\"1445\",\"type\":\"ColumnDataSource\"}},\"id\":\"1449\",\"type\":\"CDSView\"},{\"attributes\":{\"text\":\"Vacation Planning\"},\"id\":\"1399\",\"type\":\"Title\"},{\"attributes\":{},\"id\":\"1420\",\"type\":\"WheelZoomTool\"},{\"attributes\":{\"active_drag\":\"auto\",\"active_inspect\":\"auto\",\"active_multi\":null,\"active_scroll\":\"auto\",\"active_tap\":\"auto\",\"tools\":[{\"id\":\"1419\",\"type\":\"PanTool\"},{\"id\":\"1420\",\"type\":\"WheelZoomTool\"},{\"id\":\"1421\",\"type\":\"BoxZoomTool\"},{\"id\":\"1422\",\"type\":\"SaveTool\"},{\"id\":\"1423\",\"type\":\"ResetTool\"},{\"id\":\"1424\",\"type\":\"HelpTool\"}]},\"id\":\"1425\",\"type\":\"Toolbar\"},{\"attributes\":{},\"id\":\"1487\",\"type\":\"UnionRenderers\"},{\"attributes\":{\"callback\":null,\"data\":{\"x\":{\"__ndarray__\":\"VVVVVVVVtT9VVVVVVVXFPwAAAAAAANA/VVVVVVVV1T+rqqqqqqraPwAAAAAAAOA/q6qqqqqq4j9VVVVVVVXlPwAAAAAAAOg/q6qqqqqq6j9VVVVVVVXtPw==\",\"dtype\":\"float64\",\"shape\":[11]},\"y\":[236.5463660350252,475.4581957304006,716.7591437227297,960.4731011949823,1206.6241982419574,1455.236806259402,1706.3355403570213,1959.9452617956167,2216.0910804485984,2474.798357288109,2736.0927068960154]},\"selected\":{\"id\":\"1488\",\"type\":\"Selection\"},\"selection_policy\":{\"id\":\"1489\",\"type\":\"UnionRenderers\"}},\"id\":\"1445\",\"type\":\"ColumnDataSource\"},{\"attributes\":{\"ticker\":{\"id\":\"1410\",\"type\":\"BasicTicker\"}},\"id\":\"1413\",\"type\":\"Grid\"},{\"attributes\":{},\"id\":\"1488\",\"type\":\"Selection\"},{\"attributes\":{},\"id\":\"1419\",\"type\":\"PanTool\"},{\"attributes\":{\"axis_label\":\"Assert value of the growth ($)\",\"formatter\":{\"id\":\"1438\",\"type\":\"BasicTickFormatter\"},\"ticker\":{\"id\":\"1415\",\"type\":\"BasicTicker\"}},\"id\":\"1414\",\"type\":\"LinearAxis\"},{\"attributes\":{},\"id\":\"1489\",\"type\":\"UnionRenderers\"},{\"attributes\":{},\"id\":\"1438\",\"type\":\"BasicTickFormatter\"},{\"attributes\":{},\"id\":\"1415\",\"type\":\"BasicTicker\"},{\"attributes\":{\"callback\":null},\"id\":\"1403\",\"type\":\"DataRange1d\"},{\"attributes\":{\"line_color\":\"red\",\"x\":{\"field\":\"x\"},\"y\":{\"field\":\"y\"}},\"id\":\"1433\",\"type\":\"Line\"},{\"attributes\":{\"callback\":null,\"data\":{\"x\":{\"__ndarray__\":\"VVVVVVVVtT9VVVVVVVXFPwAAAAAAANA/VVVVVVVV1T+rqqqqqqraPwAAAAAAAOA/q6qqqqqq4j9VVVVVVVXlPwAAAAAAAOg/q6qqqqqq6j9VVVVVVVXtPw==\",\"dtype\":\"float64\",\"shape\":[11]},\"y\":[236.5463660350252,475.4581957304006,716.7591437227297,960.4731011949823,1206.6241982419574,1455.236806259402,1706.3355403570213,1959.9452617956167,2216.0910804485984,2474.798357288109,2736.0927068960154]},\"selected\":{\"id\":\"1486\",\"type\":\"Selection\"},\"selection_policy\":{\"id\":\"1487\",\"type\":\"UnionRenderers\"}},\"id\":\"1432\",\"type\":\"ColumnDataSource\"},{\"attributes\":{\"overlay\":{\"id\":\"1442\",\"type\":\"BoxAnnotation\"}},\"id\":\"1421\",\"type\":\"BoxZoomTool\"},{\"attributes\":{},\"id\":\"1405\",\"type\":\"LinearScale\"},{\"attributes\":{},\"id\":\"1407\",\"type\":\"LinearScale\"},{\"attributes\":{},\"id\":\"1424\",\"type\":\"HelpTool\"},{\"attributes\":{\"line_alpha\":0.1,\"line_color\":\"#1f77b4\",\"x\":{\"field\":\"x\"},\"y\":{\"field\":\"y\"}},\"id\":\"1434\",\"type\":\"Line\"},{\"attributes\":{\"axis_label\":\"Year\",\"formatter\":{\"id\":\"1440\",\"type\":\"BasicTickFormatter\"},\"ticker\":{\"id\":\"1410\",\"type\":\"BasicTicker\"}},\"id\":\"1409\",\"type\":\"LinearAxis\"},{\"attributes\":{},\"id\":\"1440\",\"type\":\"BasicTickFormatter\"},{\"attributes\":{},\"id\":\"1410\",\"type\":\"BasicTicker\"},{\"attributes\":{\"fill_color\":{\"value\":\"blue\"},\"line_color\":{\"value\":\"blue\"},\"size\":{\"units\":\"screen\",\"value\":6.0},\"x\":{\"field\":\"x\"},\"y\":{\"field\":\"y\"}},\"id\":\"1446\",\"type\":\"Scatter\"}],\"root_ids\":[\"1398\"]},\"title\":\"Bokeh Application\",\"version\":\"1.3.4\"}};\n",
       "  var render_items = [{\"docid\":\"c7851302-426e-4c86-a4a2-ccc24d82955c\",\"roots\":{\"1398\":\"69b16969-65dc-470f-97eb-0d0d3d336c94\"}}];\n",
       "  root.Bokeh.embed.embed_items_notebook(docs_json, render_items);\n",
       "\n",
       "  }\n",
       "  if (root.Bokeh !== undefined) {\n",
       "    embed_document(root);\n",
       "  } else {\n",
       "    var attempts = 0;\n",
       "    var timer = setInterval(function(root) {\n",
       "      if (root.Bokeh !== undefined) {\n",
       "        embed_document(root);\n",
       "        clearInterval(timer);\n",
       "      }\n",
       "      attempts++;\n",
       "      if (attempts > 100) {\n",
       "        console.log(\"Bokeh: ERROR: Unable to run BokehJS code because BokehJS library is missing\");\n",
       "        clearInterval(timer);\n",
       "      }\n",
       "    }, 10, root)\n",
       "  }\n",
       "})(window);"
      ],
      "application/vnd.bokehjs_exec.v0+json": ""
     },
     "metadata": {
      "application/vnd.bokehjs_exec.v0+json": {
       "id": "1398"
      }
     },
     "output_type": "display_data"
    }
   ],
   "source": [
    "R = get_returns(I,r,N)\n",
    "G = R - I*N\n",
    "print(f\"Returns ${R:.1f}\")\n",
    "print(f\"Gains ${G:.1f}\")\n",
    "print(f\"Post Tax returns ${R-0.25*G:.1f}\")\n",
    "\n",
    "N = np.arange(1,12*T)\n",
    "returns_list = [get_returns(I,r,n) for n in N]\n",
    "\n",
    "p = figure(title=\"Vacation Planning\",plot_width=900,plot_height=500)\n",
    "p.line(N/12,returns_list,color='red',legend='Modeled growth curve')\n",
    "p.scatter(N/12,returns_list,color='blue',size=6.0)\n",
    "p.xaxis.axis_label = \"Year\"\n",
    "p.yaxis.axis_label = \"Assert value of the growth ($)\"\n",
    "show(p)"
   ]
  },
  {
   "cell_type": "markdown",
   "metadata": {},
   "source": [
    "# Model : Wedding"
   ]
  },
  {
   "cell_type": "code",
   "execution_count": 30,
   "metadata": {},
   "outputs": [],
   "source": [
    "R = 5000\n",
    "r = 1.5\n",
    "T = 1\n",
    "N = 12*T"
   ]
  },
  {
   "cell_type": "code",
   "execution_count": 31,
   "metadata": {},
   "outputs": [
    {
     "data": {
      "text/plain": [
       "377.73395520309845"
      ]
     },
     "execution_count": 31,
     "metadata": {},
     "output_type": "execute_result"
    }
   ],
   "source": [
    "I = get_investment(R,r,N)\n",
    "goal_dict['wedding'] = I\n",
    "I"
   ]
  },
  {
   "cell_type": "code",
   "execution_count": 32,
   "metadata": {},
   "outputs": [
    {
     "name": "stdout",
     "output_type": "stream",
     "text": [
      "Returns $5000.0\n",
      "Gains $467.2\n",
      "Post Tax returns $4883.2\n"
     ]
    },
    {
     "data": {
      "text/html": [
       "\n",
       "\n",
       "\n",
       "\n",
       "\n",
       "\n",
       "  <div class=\"bk-root\" id=\"55f44482-7a25-4759-a172-72e9e6d5b4bf\" data-root-id=\"1550\"></div>\n"
      ]
     },
     "metadata": {},
     "output_type": "display_data"
    },
    {
     "data": {
      "application/javascript": [
       "(function(root) {\n",
       "  function embed_document(root) {\n",
       "    \n",
       "  var docs_json = {\"7f27163a-1a03-458e-9706-9d0e55ebb211\":{\"roots\":{\"references\":[{\"attributes\":{\"below\":[{\"id\":\"1561\",\"type\":\"LinearAxis\"}],\"center\":[{\"id\":\"1565\",\"type\":\"Grid\"},{\"id\":\"1570\",\"type\":\"Grid\"},{\"id\":\"1595\",\"type\":\"Legend\"}],\"left\":[{\"id\":\"1566\",\"type\":\"LinearAxis\"}],\"plot_height\":500,\"plot_width\":900,\"renderers\":[{\"id\":\"1587\",\"type\":\"GlyphRenderer\"},{\"id\":\"1600\",\"type\":\"GlyphRenderer\"}],\"title\":{\"id\":\"1551\",\"type\":\"Title\"},\"toolbar\":{\"id\":\"1577\",\"type\":\"Toolbar\"},\"x_range\":{\"id\":\"1553\",\"type\":\"DataRange1d\"},\"x_scale\":{\"id\":\"1557\",\"type\":\"LinearScale\"},\"y_range\":{\"id\":\"1555\",\"type\":\"DataRange1d\"},\"y_scale\":{\"id\":\"1559\",\"type\":\"LinearScale\"}},\"id\":\"1550\",\"subtype\":\"Figure\",\"type\":\"Plot\"},{\"attributes\":{},\"id\":\"1567\",\"type\":\"BasicTicker\"},{\"attributes\":{\"line_alpha\":0.1,\"line_color\":\"#1f77b4\",\"x\":{\"field\":\"x\"},\"y\":{\"field\":\"y\"}},\"id\":\"1586\",\"type\":\"Line\"},{\"attributes\":{\"dimension\":1,\"ticker\":{\"id\":\"1567\",\"type\":\"BasicTicker\"}},\"id\":\"1570\",\"type\":\"Grid\"},{\"attributes\":{\"items\":[{\"id\":\"1596\",\"type\":\"LegendItem\"}]},\"id\":\"1595\",\"type\":\"Legend\"},{\"attributes\":{\"callback\":null,\"data\":{\"x\":{\"__ndarray__\":\"VVVVVVVVtT9VVVVVVVXFPwAAAAAAANA/VVVVVVVV1T+rqqqqqqraPwAAAAAAAOA/q6qqqqqq4j9VVVVVVVXlPwAAAAAAAOg/q6qqqqqq6j9VVVVVVVXtPw==\",\"dtype\":\"float64\",\"shape\":[11]},\"y\":[383.39996453114486,772.5509285302569,1167.5391569893554,1568.4522088753406,1975.3789565396155,2388.4096054188544,2807.635714031282,3233.150214272895,3665.047432018134,4103.42310802955,4548.374419181138]},\"selected\":{\"id\":\"1650\",\"type\":\"Selection\"},\"selection_policy\":{\"id\":\"1651\",\"type\":\"UnionRenderers\"}},\"id\":\"1597\",\"type\":\"ColumnDataSource\"},{\"attributes\":{\"axis_label\":\"Assert value of the growth ($)\",\"formatter\":{\"id\":\"1590\",\"type\":\"BasicTickFormatter\"},\"ticker\":{\"id\":\"1567\",\"type\":\"BasicTicker\"}},\"id\":\"1566\",\"type\":\"LinearAxis\"},{\"attributes\":{\"line_color\":\"red\",\"x\":{\"field\":\"x\"},\"y\":{\"field\":\"y\"}},\"id\":\"1585\",\"type\":\"Line\"},{\"attributes\":{},\"id\":\"1590\",\"type\":\"BasicTickFormatter\"},{\"attributes\":{},\"id\":\"1650\",\"type\":\"Selection\"},{\"attributes\":{},\"id\":\"1651\",\"type\":\"UnionRenderers\"},{\"attributes\":{\"source\":{\"id\":\"1584\",\"type\":\"ColumnDataSource\"}},\"id\":\"1588\",\"type\":\"CDSView\"},{\"attributes\":{\"active_drag\":\"auto\",\"active_inspect\":\"auto\",\"active_multi\":null,\"active_scroll\":\"auto\",\"active_tap\":\"auto\",\"tools\":[{\"id\":\"1571\",\"type\":\"PanTool\"},{\"id\":\"1572\",\"type\":\"WheelZoomTool\"},{\"id\":\"1573\",\"type\":\"BoxZoomTool\"},{\"id\":\"1574\",\"type\":\"SaveTool\"},{\"id\":\"1575\",\"type\":\"ResetTool\"},{\"id\":\"1576\",\"type\":\"HelpTool\"}]},\"id\":\"1577\",\"type\":\"Toolbar\"},{\"attributes\":{},\"id\":\"1592\",\"type\":\"BasicTickFormatter\"},{\"attributes\":{\"data_source\":{\"id\":\"1584\",\"type\":\"ColumnDataSource\"},\"glyph\":{\"id\":\"1585\",\"type\":\"Line\"},\"hover_glyph\":null,\"muted_glyph\":null,\"nonselection_glyph\":{\"id\":\"1586\",\"type\":\"Line\"},\"selection_glyph\":null,\"view\":{\"id\":\"1588\",\"type\":\"CDSView\"}},\"id\":\"1587\",\"type\":\"GlyphRenderer\"},{\"attributes\":{\"callback\":null},\"id\":\"1553\",\"type\":\"DataRange1d\"},{\"attributes\":{},\"id\":\"1571\",\"type\":\"PanTool\"},{\"attributes\":{\"callback\":null,\"data\":{\"x\":{\"__ndarray__\":\"VVVVVVVVtT9VVVVVVVXFPwAAAAAAANA/VVVVVVVV1T+rqqqqqqraPwAAAAAAAOA/q6qqqqqq4j9VVVVVVVXlPwAAAAAAAOg/q6qqqqqq6j9VVVVVVVXtPw==\",\"dtype\":\"float64\",\"shape\":[11]},\"y\":[383.39996453114486,772.5509285302569,1167.5391569893554,1568.4522088753406,1975.3789565396155,2388.4096054188544,2807.635714031282,3233.150214272895,3665.047432018134,4103.42310802955,4548.374419181138]},\"selected\":{\"id\":\"1648\",\"type\":\"Selection\"},\"selection_policy\":{\"id\":\"1649\",\"type\":\"UnionRenderers\"}},\"id\":\"1584\",\"type\":\"ColumnDataSource\"},{\"attributes\":{},\"id\":\"1572\",\"type\":\"WheelZoomTool\"},{\"attributes\":{\"bottom_units\":\"screen\",\"fill_alpha\":{\"value\":0.5},\"fill_color\":{\"value\":\"lightgrey\"},\"left_units\":\"screen\",\"level\":\"overlay\",\"line_alpha\":{\"value\":1.0},\"line_color\":{\"value\":\"black\"},\"line_dash\":[4,4],\"line_width\":{\"value\":2},\"render_mode\":\"css\",\"right_units\":\"screen\",\"top_units\":\"screen\"},\"id\":\"1594\",\"type\":\"BoxAnnotation\"},{\"attributes\":{},\"id\":\"1648\",\"type\":\"Selection\"},{\"attributes\":{\"overlay\":{\"id\":\"1594\",\"type\":\"BoxAnnotation\"}},\"id\":\"1573\",\"type\":\"BoxZoomTool\"},{\"attributes\":{\"fill_color\":{\"value\":\"blue\"},\"line_color\":{\"value\":\"blue\"},\"size\":{\"units\":\"screen\",\"value\":6.0},\"x\":{\"field\":\"x\"},\"y\":{\"field\":\"y\"}},\"id\":\"1598\",\"type\":\"Scatter\"},{\"attributes\":{},\"id\":\"1574\",\"type\":\"SaveTool\"},{\"attributes\":{\"text\":\"Wedding Planning\"},\"id\":\"1551\",\"type\":\"Title\"},{\"attributes\":{\"fill_alpha\":{\"value\":0.1},\"fill_color\":{\"value\":\"#1f77b4\"},\"line_alpha\":{\"value\":0.1},\"line_color\":{\"value\":\"#1f77b4\"},\"size\":{\"units\":\"screen\",\"value\":6.0},\"x\":{\"field\":\"x\"},\"y\":{\"field\":\"y\"}},\"id\":\"1599\",\"type\":\"Scatter\"},{\"attributes\":{\"data_source\":{\"id\":\"1597\",\"type\":\"ColumnDataSource\"},\"glyph\":{\"id\":\"1598\",\"type\":\"Scatter\"},\"hover_glyph\":null,\"muted_glyph\":null,\"nonselection_glyph\":{\"id\":\"1599\",\"type\":\"Scatter\"},\"selection_glyph\":null,\"view\":{\"id\":\"1601\",\"type\":\"CDSView\"}},\"id\":\"1600\",\"type\":\"GlyphRenderer\"},{\"attributes\":{\"callback\":null},\"id\":\"1555\",\"type\":\"DataRange1d\"},{\"attributes\":{},\"id\":\"1575\",\"type\":\"ResetTool\"},{\"attributes\":{},\"id\":\"1649\",\"type\":\"UnionRenderers\"},{\"attributes\":{},\"id\":\"1557\",\"type\":\"LinearScale\"},{\"attributes\":{},\"id\":\"1576\",\"type\":\"HelpTool\"},{\"attributes\":{},\"id\":\"1559\",\"type\":\"LinearScale\"},{\"attributes\":{\"source\":{\"id\":\"1597\",\"type\":\"ColumnDataSource\"}},\"id\":\"1601\",\"type\":\"CDSView\"},{\"attributes\":{\"label\":{\"value\":\"Modeled growth curve\"},\"renderers\":[{\"id\":\"1587\",\"type\":\"GlyphRenderer\"}]},\"id\":\"1596\",\"type\":\"LegendItem\"},{\"attributes\":{\"ticker\":{\"id\":\"1562\",\"type\":\"BasicTicker\"}},\"id\":\"1565\",\"type\":\"Grid\"},{\"attributes\":{\"axis_label\":\"Year\",\"formatter\":{\"id\":\"1592\",\"type\":\"BasicTickFormatter\"},\"ticker\":{\"id\":\"1562\",\"type\":\"BasicTicker\"}},\"id\":\"1561\",\"type\":\"LinearAxis\"},{\"attributes\":{},\"id\":\"1562\",\"type\":\"BasicTicker\"}],\"root_ids\":[\"1550\"]},\"title\":\"Bokeh Application\",\"version\":\"1.3.4\"}};\n",
       "  var render_items = [{\"docid\":\"7f27163a-1a03-458e-9706-9d0e55ebb211\",\"roots\":{\"1550\":\"55f44482-7a25-4759-a172-72e9e6d5b4bf\"}}];\n",
       "  root.Bokeh.embed.embed_items_notebook(docs_json, render_items);\n",
       "\n",
       "  }\n",
       "  if (root.Bokeh !== undefined) {\n",
       "    embed_document(root);\n",
       "  } else {\n",
       "    var attempts = 0;\n",
       "    var timer = setInterval(function(root) {\n",
       "      if (root.Bokeh !== undefined) {\n",
       "        embed_document(root);\n",
       "        clearInterval(timer);\n",
       "      }\n",
       "      attempts++;\n",
       "      if (attempts > 100) {\n",
       "        console.log(\"Bokeh: ERROR: Unable to run BokehJS code because BokehJS library is missing\");\n",
       "        clearInterval(timer);\n",
       "      }\n",
       "    }, 10, root)\n",
       "  }\n",
       "})(window);"
      ],
      "application/vnd.bokehjs_exec.v0+json": ""
     },
     "metadata": {
      "application/vnd.bokehjs_exec.v0+json": {
       "id": "1550"
      }
     },
     "output_type": "display_data"
    }
   ],
   "source": [
    "R = get_returns(I,r,N)\n",
    "G = R - I*N\n",
    "print(f\"Returns ${R:.1f}\")\n",
    "print(f\"Gains ${G:.1f}\")\n",
    "print(f\"Post Tax returns ${R-0.25*G:.1f}\")\n",
    "\n",
    "N = np.arange(1,12*T)\n",
    "returns_list = [get_returns(I,r,n) for n in N]\n",
    "\n",
    "p = figure(title=\"Wedding Planning\",plot_width=900,plot_height=500)\n",
    "p.line(N/12,returns_list,color='red',legend='Modeled growth curve')\n",
    "p.scatter(N/12,returns_list,color='blue',size=6.0)\n",
    "p.xaxis.axis_label = \"Year\"\n",
    "p.yaxis.axis_label = \"Assert value of the growth ($)\"\n",
    "show(p)"
   ]
  },
  {
   "cell_type": "markdown",
   "metadata": {},
   "source": [
    "# Model : Retirement"
   ]
  },
  {
   "cell_type": "code",
   "execution_count": 33,
   "metadata": {},
   "outputs": [],
   "source": [
    "goal_dict['retirement'] = 891.1"
   ]
  },
  {
   "cell_type": "code",
   "execution_count": 34,
   "metadata": {},
   "outputs": [
    {
     "data": {
      "text/plain": [
       "{'home': 1550.6938011994614,\n",
       " 'vacation': 234.20432280695562,\n",
       " 'wedding': 377.73395520309845,\n",
       " 'retirement': 891.1}"
      ]
     },
     "execution_count": 34,
     "metadata": {},
     "output_type": "execute_result"
    }
   ],
   "source": [
    "goal_dict"
   ]
  },
  {
   "cell_type": "code",
   "execution_count": 35,
   "metadata": {},
   "outputs": [
    {
     "data": {
      "text/html": [
       "<div>\n",
       "<style scoped>\n",
       "    .dataframe tbody tr th:only-of-type {\n",
       "        vertical-align: middle;\n",
       "    }\n",
       "\n",
       "    .dataframe tbody tr th {\n",
       "        vertical-align: top;\n",
       "    }\n",
       "\n",
       "    .dataframe thead th {\n",
       "        text-align: right;\n",
       "    }\n",
       "</style>\n",
       "<table border=\"1\" class=\"dataframe\">\n",
       "  <thead>\n",
       "    <tr style=\"text-align: right;\">\n",
       "      <th></th>\n",
       "      <th>goal</th>\n",
       "      <th>model_investment</th>\n",
       "    </tr>\n",
       "  </thead>\n",
       "  <tbody>\n",
       "    <tr>\n",
       "      <td>0</td>\n",
       "      <td>home</td>\n",
       "      <td>1550.693801</td>\n",
       "    </tr>\n",
       "    <tr>\n",
       "      <td>1</td>\n",
       "      <td>vacation</td>\n",
       "      <td>234.204323</td>\n",
       "    </tr>\n",
       "    <tr>\n",
       "      <td>2</td>\n",
       "      <td>wedding</td>\n",
       "      <td>377.733955</td>\n",
       "    </tr>\n",
       "    <tr>\n",
       "      <td>3</td>\n",
       "      <td>retirement</td>\n",
       "      <td>891.100000</td>\n",
       "    </tr>\n",
       "  </tbody>\n",
       "</table>\n",
       "</div>"
      ],
      "text/plain": [
       "         goal  model_investment\n",
       "0        home       1550.693801\n",
       "1    vacation        234.204323\n",
       "2     wedding        377.733955\n",
       "3  retirement        891.100000"
      ]
     },
     "execution_count": 35,
     "metadata": {},
     "output_type": "execute_result"
    }
   ],
   "source": [
    "df_goal = pd.DataFrame({'goal':[k for k,v in goal_dict.items()],'model_investment':[v for k,v in goal_dict.items()]})\n",
    "df_goal"
   ]
  },
  {
   "cell_type": "code",
   "execution_count": 36,
   "metadata": {},
   "outputs": [],
   "source": [
    "#df_goal.to_csv(\"model_goal_allocation.csv\")"
   ]
  }
 ],
 "metadata": {
  "kernelspec": {
   "display_name": "Python 3",
   "language": "python",
   "name": "python3"
  },
  "language_info": {
   "codemirror_mode": {
    "name": "ipython",
    "version": 3
   },
   "file_extension": ".py",
   "mimetype": "text/x-python",
   "name": "python",
   "nbconvert_exporter": "python",
   "pygments_lexer": "ipython3",
   "version": "3.7.4"
  }
 },
 "nbformat": 4,
 "nbformat_minor": 2
}
